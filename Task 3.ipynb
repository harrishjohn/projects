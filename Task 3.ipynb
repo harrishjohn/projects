{
  "nbformat": 4,
  "nbformat_minor": 0,
  "metadata": {
    "colab": {
      "provenance": []
    },
    "kernelspec": {
      "name": "python3",
      "display_name": "Python 3"
    },
    "language_info": {
      "name": "python"
    }
  },
  "cells": [
    {
      "cell_type": "code",
      "execution_count": null,
      "metadata": {
        "id": "rnx1licFQqCf"
      },
      "outputs": [],
      "source": [
        "#Create an empty tuple \n",
        "x = ()\n",
        "print(x)\n",
        "#Create an empty tuple with tuple()  built-in function\n",
        "tuplex = tuple()\n",
        "print(tuplex)\n",
        "\n",
        "\n",
        "\n",
        "\n",
        "\n",
        "\n",
        "\n",
        "\n"
      ]
    },
    {
      "cell_type": "code",
      "source": [
        "#create a tuple with different data types\n",
        "tuplex =('tuple',False, 3,1.5)\n",
        "print(tuplex)\n",
        "\n"
      ],
      "metadata": {
        "colab": {
          "base_uri": "https://localhost:8080/"
        },
        "id": "feINBth9VRVm",
        "outputId": "3dcc4c29-629d-416d-d5ff-3a68b8b0dd66"
      },
      "execution_count": 4,
      "outputs": [
        {
          "output_type": "stream",
          "name": "stdout",
          "text": [
            "('tuple', False, 3, 1.5)\n"
          ]
        }
      ]
    },
    {
      "cell_type": "code",
      "source": [
        "#Create a tuple with numbers\n",
        "tuplex = 10, 15, 26, 17, 25\n",
        "print(tuplex)\n",
        "#Create a tuple of one item\n",
        "tuplex = 25,\n",
        "print(tuplex)\n"
      ],
      "metadata": {
        "colab": {
          "base_uri": "https://localhost:8080/"
        },
        "id": "_KamgrxIVTt6",
        "outputId": "6c88b916-f968-4d0b-8e26-076638c16ccb"
      },
      "execution_count": 5,
      "outputs": [
        {
          "output_type": "stream",
          "name": "stdout",
          "text": [
            "(10, 15, 26, 17, 25)\n",
            "(25,)\n"
          ]
        }
      ]
    },
    {
      "cell_type": "code",
      "source": [
        "#Unpack a tuple in several variables\n",
        "tuplex = 4, 8, 3 \n",
        "print(tuplex)\n",
        "n1, n2, n3 = tuplex\n",
        "#unpack a tuple in variables\n",
        "print(n1 + n2 + n3) \n",
        "\n"
      ],
      "metadata": {
        "colab": {
          "base_uri": "https://localhost:8080/"
        },
        "id": "pP-jT_eBWUvT",
        "outputId": "600ba859-43c8-4b2e-98c2-a5cb4396c7c0"
      },
      "execution_count": 32,
      "outputs": [
        {
          "output_type": "stream",
          "name": "stdout",
          "text": [
            "(4, 8, 3)\n",
            "15\n"
          ]
        }
      ]
    },
    {
      "cell_type": "code",
      "source": [],
      "metadata": {
        "id": "9yKyiFYPXYvv"
      },
      "execution_count": null,
      "outputs": []
    },
    {
      "cell_type": "code",
      "source": [
        "#5.create a tuple to add a item in a tuple\n",
        "tuplex = (4, 6, 2, 8, 3, 1) \n",
        "print(tuplex)\n",
        "#tuples are immutable, so cannot add new elements\n",
        "#using merge of tuples with the + operator you can add an element and it will create a new tuple\n",
        "tuplex = tuplex + (9,)\n",
        "print(tuplex)\n",
        "#adding items in a specific index\n",
        "tuplex = tuplex[:5] + (15, 20, 25) + tuplex[:5]\n",
        "print(tuplex)\n",
        "#converting the tuple to list\n",
        "listx = list(tuplex) \n",
        "#use different ways to add items in list\n",
        "listx.append(30)\n",
        "tuplex = tuple(listx)\n",
        "print(tuplex)\n"
      ],
      "metadata": {
        "id": "_gCGF2EBVKmI"
      },
      "execution_count": null,
      "outputs": []
    },
    {
      "cell_type": "code",
      "source": [
        "#6.Convert the tuple into string \n",
        "tup = ('a', 's', 's', 'i', 'g', 'n', 'm', 'e', 'n','t')\n",
        "str =  ''.join(tup)\n",
        "print(str)\n"
      ],
      "metadata": {
        "colab": {
          "base_uri": "https://localhost:8080/"
        },
        "id": "Jn55jvVaYGAG",
        "outputId": "65de5dda-257e-45a6-eabf-64c65d362eb6"
      },
      "execution_count": 11,
      "outputs": [
        {
          "output_type": "stream",
          "name": "stdout",
          "text": [
            "assignment\n"
          ]
        }
      ]
    },
    {
      "cell_type": "code",
      "source": [
        "#7.Program to get the 4th element and 4th element from last of thr tuple\n",
        "#Get an item of the tuple\n",
        "tuplex = (\"s\", \"h\", \"i\", \"a\", \"s\", \"h\", \"i\", \"n\", \"f\",\"o\")\n",
        "print(tuplex)\n",
        "#Get item (4th element)of the tuple by index\n",
        "item = tuplex[3]\n",
        "print(item)\n",
        "#Get item (4th element from last)by index negative\n",
        "item1 = tuplex[-4]\n",
        "print(item1)\n"
      ],
      "metadata": {
        "colab": {
          "base_uri": "https://localhost:8080/"
        },
        "id": "Vb2D_WLoY3p9",
        "outputId": "6ec106bb-f6fa-4e93-9540-242ded9522a6"
      },
      "execution_count": 12,
      "outputs": [
        {
          "output_type": "stream",
          "name": "stdout",
          "text": [
            "('s', 'h', 'i', 'a', 's', 'h', 'i', 'n', 'f', 'o')\n",
            "a\n",
            "i\n"
          ]
        }
      ]
    },
    {
      "cell_type": "code",
      "source": [
        "#8.Colon of the tuple\n",
        "from copy import deepcopy\n",
        "#create a tuple\n",
        "tuplex = (\"HEY\", 10, [], False) \n",
        "print(tuplex)\n",
        "#make a copy of a tuple using deepcopy() function\n",
        "tuplex_colon = deepcopy(tuplex)\n",
        "tuplex_colon[2].append(50)\n",
        "print(tuplex_colon)\n",
        "print(tuplex)\n"
      ],
      "metadata": {
        "colab": {
          "base_uri": "https://localhost:8080/"
        },
        "id": "6S4t4TYLZuik",
        "outputId": "f44f37fd-aefe-4d12-ee6f-56ae25dcb8a2"
      },
      "execution_count": 13,
      "outputs": [
        {
          "output_type": "stream",
          "name": "stdout",
          "text": [
            "('HEY', 10, [], False)\n",
            "('HEY', 10, [50], False)\n",
            "('HEY', 10, [], False)\n"
          ]
        }
      ]
    },
    {
      "cell_type": "code",
      "source": [
        "#9.Repeated elements in Tuple\n",
        "#create a tuple\n",
        "tuplex = 2, 4, 5, 6, 2, 3, 3, 4, 7 \n",
        "print(tuplex)\n",
        "#return the number of times it appears in the tuple.\n",
        "count = tuplex.count(3)\n",
        "print(count)\n"
      ],
      "metadata": {
        "colab": {
          "base_uri": "https://localhost:8080/"
        },
        "id": "_JQEH3mfaMpn",
        "outputId": "02fe084f-6edf-4577-8533-ed221169b992"
      },
      "execution_count": 15,
      "outputs": [
        {
          "output_type": "stream",
          "name": "stdout",
          "text": [
            "(2, 4, 5, 6, 2, 3, 3, 4, 7)\n",
            "2\n"
          ]
        }
      ]
    },
    {
      "cell_type": "code",
      "source": [
        "#10.Check whether an element exists within a tuple\n",
        "tuplex = (\"e\", \"x\", \"e\", \"r\", \"c\", \"i\", \"s\", \"e\", 5)\n",
        "print(\"r\" in tuplex)\n",
        "print(6 in tuplex)\n"
      ],
      "metadata": {
        "colab": {
          "base_uri": "https://localhost:8080/"
        },
        "id": "uEX_Cgqwat9j",
        "outputId": "794fda74-d1bf-41a0-e01f-0e81d8f97c39"
      },
      "execution_count": 18,
      "outputs": [
        {
          "output_type": "stream",
          "name": "stdout",
          "text": [
            "True\n",
            "False\n"
          ]
        }
      ]
    },
    {
      "cell_type": "code",
      "source": [
        "#11.Convert list to tuple\n",
        "listx = [5, 10, 7, 4, 15, 3]\n",
        "print(listx)\n",
        "#using the tuple() function built-in Python( passing as parameter the list)\n",
        "tuplex = tuple(listx)\n",
        "print(tuplex)\n"
      ],
      "metadata": {
        "id": "WqDi5NJJa5kJ"
      },
      "execution_count": null,
      "outputs": []
    },
    {
      "cell_type": "code",
      "source": [
        "#12.Remove an item from a tuple\n",
        "tuplex = \"c\", \"o\", \"u\", \"n\", \"t\", \"r\", \"y\", 1\n",
        "print(tuplex)\n",
        "#tuples are immutable, so you can not remove elements\n",
        "#using merge of tuples with the + operator you can remove an item and it will create a new tuple\n",
        "tuplex = tuplex[:2] + tuplex[3:]\n",
        "print(tuplex)\n",
        "#converting the tuple to list\n",
        "listx = list(tuplex) \n",
        "#use different ways to remove an item of the list\n",
        "listx.remove(\"c\") \n",
        "#converting the tuple to list\n",
        "tuplex = tuple(listx)\n",
        "print(tuplex)\n"
      ],
      "metadata": {
        "colab": {
          "base_uri": "https://localhost:8080/"
        },
        "id": "ArxXc4fwfvOw",
        "outputId": "76baab0f-d086-40dd-e9b2-073143e7f59b"
      },
      "execution_count": 20,
      "outputs": [
        {
          "output_type": "stream",
          "name": "stdout",
          "text": [
            "('c', 'o', 'u', 'n', 't', 'r', 'y', 1)\n",
            "('c', 'o', 'n', 't', 'r', 'y', 1)\n",
            "('o', 'n', 't', 'r', 'y', 1)\n"
          ]
        }
      ]
    },
    {
      "cell_type": "code",
      "source": [
        "#13.Slice of the tuple\n",
        "tuplex = (2, 4, 3, 5, 4, 6, 7, 8, 6, 1)\n",
        "#used tuple[start:stop] the start index is inclusive and the stop index\n",
        "_slice = tuplex[3:5]\n",
        "#is exclusive\n",
        "print(_slice)\n",
        "#if the start index isn't defined, is taken from the beg inning of the tuple\n",
        "_slice = tuplex[:6]\n",
        "print(_slice)\n",
        "#if the end index isn't defined, is taken until the end of the tuple\n",
        "_slice = tuplex[5:]\n",
        "print(_slice)\n",
        "#if neither is defined, returns the full tuple\n",
        "_slice = tuplex[:]\n",
        "print(_slice)\n",
        "#The indexes can be defined with negative values\n",
        "_slice = tuplex[-8:-4]\n",
        "print(_slice)\n",
        "#create another tuple\n",
        "tuplex = tuple(\"HELLO WORLD\")\n",
        "print(tuplex)\n",
        "#step specify an increment between the elements to cut of the tuple\n",
        "#tuple[start:stop:step]\n",
        "_slice = tuplex[2:9:2]\n",
        "print(_slice)\n",
        "_slice = tuplex[::4]\n",
        "print(_slice)\n",
        "_slice = tuplex[9:2:-4]\n",
        "print(_slice)\n"
      ],
      "metadata": {
        "id": "lmJQIxdjg0jT"
      },
      "execution_count": null,
      "outputs": []
    },
    {
      "cell_type": "code",
      "source": [
        "#14.index of an item of a tuple\n",
        "tuplex = tuple(\"index tuple\")\n",
        "print(tuplex)\n",
        "#get index of the first item whose value is passed as parameter\n",
        "index = tuplex.index(\"p\")\n",
        "print(index)\n",
        "#define the index from which you want to search\n",
        "index = tuplex.index(\"p\", 5)\n",
        "print(index)\n",
        "#define the segment of the tuple to be searched\n",
        "index = tuplex.index(\"e\", 3, 6)\n",
        "print(index)\n",
        "\n"
      ],
      "metadata": {
        "colab": {
          "base_uri": "https://localhost:8080/"
        },
        "id": "VRE10BVshz9p",
        "outputId": "3485465e-7186-4a11-f67e-0060e1c83df7"
      },
      "execution_count": 24,
      "outputs": [
        {
          "output_type": "stream",
          "name": "stdout",
          "text": [
            "('i', 'n', 'd', 'e', 'x', ' ', 't', 'u', 'p', 'l', 'e')\n",
            "8\n",
            "8\n",
            "3\n"
          ]
        }
      ]
    },
    {
      "cell_type": "code",
      "source": [
        "#15.Length of the tuple\n",
        "tuplex = tuple(\"internship\")\n",
        "print(tuplex)\n",
        "print(len(tuplex))\n"
      ],
      "metadata": {
        "colab": {
          "base_uri": "https://localhost:8080/"
        },
        "id": "Y8HWyehQijM7",
        "outputId": "1761dbe1-e7e4-46d1-a385-9afc4d6632b7"
      },
      "execution_count": 25,
      "outputs": [
        {
          "output_type": "stream",
          "name": "stdout",
          "text": [
            "('i', 'n', 't', 'e', 'r', 'n', 's', 'h', 'i', 'p')\n",
            "10\n"
          ]
        }
      ]
    },
    {
      "cell_type": "code",
      "source": [
        "#16.convert tuple to dict\n",
        "tuplex = ((6, \"h\"),(9, \"r\"))\n",
        "print(dict((y, x) for x, y in tuplex))\n",
        "\n"
      ],
      "metadata": {
        "colab": {
          "base_uri": "https://localhost:8080/"
        },
        "id": "yadOmA1ni72R",
        "outputId": "b294a306-a0ce-4aec-947d-c64d315161a4"
      },
      "execution_count": 26,
      "outputs": [
        {
          "output_type": "stream",
          "name": "stdout",
          "text": [
            "{'h': 6, 'r': 9}\n"
          ]
        }
      ]
    },
    {
      "cell_type": "code",
      "source": [
        "#17.Unzip tuple\n",
        "l = [(1,2), (3,4), (8,9)]\n",
        "print(list(zip(*l)))\n",
        "\n"
      ],
      "metadata": {
        "colab": {
          "base_uri": "https://localhost:8080/"
        },
        "id": "ci8cOhFXjM9s",
        "outputId": "135a9817-8e8a-427c-aca6-7aabc429b508"
      },
      "execution_count": 27,
      "outputs": [
        {
          "output_type": "stream",
          "name": "stdout",
          "text": [
            "[(1, 3, 8), (2, 4, 9)]\n"
          ]
        }
      ]
    },
    {
      "cell_type": "code",
      "source": [
        "#18.Tuple reverse\n",
        "x = (\"nation\")\n",
        "y = reversed(x)\n",
        "print(tuple(y))\n",
        "#create another tuple\n",
        "x = (5, 10, 15, 20)\n",
        "y = reversed(x)\n",
        "print(tuple(y))\n"
      ],
      "metadata": {
        "colab": {
          "base_uri": "https://localhost:8080/"
        },
        "id": "XQLj1l4JjvKu",
        "outputId": "4b99600a-0d35-4d5c-c67b-2d164dad23fa"
      },
      "execution_count": 29,
      "outputs": [
        {
          "output_type": "stream",
          "name": "stdout",
          "text": [
            "('n', 'o', 'i', 't', 'a', 'n')\n",
            "(20, 15, 10, 5)\n"
          ]
        }
      ]
    },
    {
      "cell_type": "code",
      "source": [
        "#19.convert list of tuples into dict\n",
        "#create a list\n",
        "l = [(\"x\", 1), (\"x\", 2), (\"x\", 3), (\"y\", 1), (\"y\", 2), (\"z\", 1)]\n",
        "d = {}\n",
        "for a, b in l:\n",
        "    d.setdefault(a, []).append(b)\n",
        "print (d)\n",
        "\n"
      ],
      "metadata": {
        "colab": {
          "base_uri": "https://localhost:8080/"
        },
        "id": "GTvY6dwGj6aM",
        "outputId": "feebe35c-c1fd-427e-92b0-e57f844f64d9"
      },
      "execution_count": 30,
      "outputs": [
        {
          "output_type": "stream",
          "name": "stdout",
          "text": [
            "{'x': [1, 2, 3], 'y': [1, 2], 'z': [1]}\n"
          ]
        }
      ]
    },
    {
      "cell_type": "code",
      "source": [
        "#20.Print the tuple with string formatting\n",
        "t = (100, 200, 300)\n",
        "print('This is a tuple {0}'.format(t))\n"
      ],
      "metadata": {
        "colab": {
          "base_uri": "https://localhost:8080/"
        },
        "id": "A0tZTEl0keaO",
        "outputId": "ec1f46f4-f4b8-48cd-d6b9-ff014febc24b"
      },
      "execution_count": 31,
      "outputs": [
        {
          "output_type": "stream",
          "name": "stdout",
          "text": [
            "This is a tuple (100, 200, 300)\n"
          ]
        }
      ]
    }
  ]
}