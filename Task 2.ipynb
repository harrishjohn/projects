{
  "nbformat": 4,
  "nbformat_minor": 0,
  "metadata": {
    "colab": {
      "provenance": []
    },
    "kernelspec": {
      "name": "python3",
      "display_name": "Python 3"
    },
    "language_info": {
      "name": "python"
    }
  },
  "cells": [
    {
      "cell_type": "code",
      "execution_count": 1,
      "metadata": {
        "colab": {
          "base_uri": "https://localhost:8080/"
        },
        "id": "_JcjEd0AY_oP",
        "outputId": "6a6df34e-18df-4bf6-d3e7-c756f026ed43"
      },
      "outputs": [
        {
          "output_type": "stream",
          "name": "stdout",
          "text": [
            "1505,1540,1575,1610,1645,1680,1715,1750,1785,1820,1855,1890,1925,1960,1995,2030,2065,2100,2135,2170,2205,2240,2275,2310,2345,2380,2415,2450,2485,2520,2555,2590,2625,2660,2695\n"
          ]
        }
      ],
      "source": [
        "#1.Find numbers which are divisible by 7 and multiple of 5 between a range\n",
        "nl=[]\n",
        "for x in range(1500, 2701):\n",
        "    if (x%7==0) and (x%5==0):\n",
        "        nl.append(str(x))\n",
        "print (','.join(nl))\n"
      ]
    },
    {
      "cell_type": "code",
      "source": [
        "#2.Guess a number between 1 to 9\n",
        "import random\n",
        "target_num, guess_num = random.randint(1, 10), 0\n",
        "while target_num != guess_num:\n",
        "    guess_num = int(input('Guess a number between 1 and 10 until you get it right : '))\n",
        "print('Well guessed!')\n"
      ],
      "metadata": {
        "colab": {
          "base_uri": "https://localhost:8080/"
        },
        "id": "3tQzEwQ_Zg_z",
        "outputId": "59900272-de7c-4bda-cadc-ee2cfa38c455"
      },
      "execution_count": 2,
      "outputs": [
        {
          "output_type": "stream",
          "name": "stdout",
          "text": [
            "Guess a number between 1 and 10 until you get it right : 7\n",
            "Guess a number between 1 and 10 until you get it right : 9\n",
            "Guess a number between 1 and 10 until you get it right : 7\n",
            "Guess a number between 1 and 10 until you get it right : 8\n",
            "Guess a number between 1 and 10 until you get it right : 5\n",
            "Guess a number between 1 and 10 until you get it right : 3\n",
            "Guess a number between 1 and 10 until you get it right : 4\n",
            "Guess a number between 1 and 10 until you get it right : 2\n",
            "Guess a number between 1 and 10 until you get it right : 1\n",
            "Guess a number between 1 and 10 until you get it right : 0\n",
            "Guess a number between 1 and 10 until you get it right : 6\n",
            "Well guessed!\n"
          ]
        }
      ]
    },
    {
      "cell_type": "code",
      "source": [
        "#3.Construct a specified pattern, using a nested for loop\n",
        "n=5;\n",
        "for i in range(n):\n",
        "    for j in range(i):\n",
        "        print ('* ', end=\"\")\n",
        "    print('')\n",
        "\n",
        "for i in range(n,0,-1):\n",
        "    for j in range(i):\n",
        "        print('* ', end=\"\")\n",
        "    print('')\n",
        "\t"
      ],
      "metadata": {
        "colab": {
          "base_uri": "https://localhost:8080/"
        },
        "id": "4LNgGY-PaB4a",
        "outputId": "b7abdc7b-e154-4476-b864-3b50dd7920a1"
      },
      "execution_count": 3,
      "outputs": [
        {
          "output_type": "stream",
          "name": "stdout",
          "text": [
            "\n",
            "* \n",
            "* * \n",
            "* * * \n",
            "* * * * \n",
            "* * * * * \n",
            "* * * * \n",
            "* * * \n",
            "* * \n",
            "* \n"
          ]
        }
      ]
    },
    {
      "cell_type": "code",
      "source": [
        "#4.Convert temperatures to and from celsius, fahrenheit\n",
        "temp = input(\"Input the  temperature you like to convert? (e.g., 45F, 102C etc.) : \")\n",
        "degree = int(temp[:-1])\n",
        "i_convention = temp[-1]\n",
        "\n",
        "if i_convention.upper() == \"C\":\n",
        "  result = int(round((9 * degree) / 5 + 32))\n",
        "  o_convention = \"Fahrenheit\"\n",
        "elif i_convention.upper() == \"F\":\n",
        "  result = int(round((degree - 32) * 5 / 9))\n",
        "  o_convention = \"Celsius\"\n",
        "else:\n",
        "  print(\"Input proper convention.\")\n",
        "  quit()\n",
        "print(\"The temperature in\", o_convention, \"is\", result, \"degrees.\")\n",
        "\n",
        "\n",
        "\t"
      ],
      "metadata": {
        "colab": {
          "base_uri": "https://localhost:8080/"
        },
        "id": "gzNlx7ulaYcO",
        "outputId": "482aed88-88f3-43d5-ec38-392d4124a3ba"
      },
      "execution_count": 5,
      "outputs": [
        {
          "output_type": "stream",
          "name": "stdout",
          "text": [
            "Input the  temperature you like to convert? (e.g., 45F, 102C etc.) : 45F\n",
            "The temperature in Celsius is 7 degrees.\n"
          ]
        }
      ]
    },
    {
      "cell_type": "code",
      "source": [
        "#5.Reverse a word\n",
        "word = input(\"Input a word to reverse: \")\n",
        "\n",
        "for char in range(len(word) - 1, -1, -1):\n",
        "  print(word[char], end=\"\")\n",
        "print(\"\\n\")\n",
        "\n"
      ],
      "metadata": {
        "colab": {
          "base_uri": "https://localhost:8080/"
        },
        "id": "xYn65W0VayuA",
        "outputId": "2dc37e27-649c-4e1a-be9d-9972201fa36a"
      },
      "execution_count": 6,
      "outputs": [
        {
          "output_type": "stream",
          "name": "stdout",
          "text": [
            "Input a word to reverse: ESER\n",
            "RESE\n",
            "\n"
          ]
        }
      ]
    },
    {
      "cell_type": "code",
      "source": [
        "#6.Count the number of even and odd numbers from a series of numbers\n",
        "numbers = (1, 2, 3, 4, 5, 6, 7, 8, 9) # Declaring the tuple\n",
        "count_odd = 0\n",
        "count_even = 0\n",
        "for x in numbers:\n",
        "        if not x % 2:\n",
        "    \t     count_even+=1\n",
        "        else:\n",
        "    \t     count_odd+=1\n",
        "print(\"Number of even numbers :\",count_even)\n",
        "print(\"Number of odd numbers :\",count_odd)\n"
      ],
      "metadata": {
        "colab": {
          "base_uri": "https://localhost:8080/"
        },
        "id": "CJFzln7pa80z",
        "outputId": "a256e0b0-26bd-4a80-ea00-1db278fbbddc"
      },
      "execution_count": 7,
      "outputs": [
        {
          "output_type": "stream",
          "name": "stdout",
          "text": [
            "Number of even numbers : 4\n",
            "Number of odd numbers : 5\n"
          ]
        }
      ]
    },
    {
      "cell_type": "code",
      "source": [
        "#7.Prints each item and its corresponding type from a list\n",
        "datalist = [1452, 11.23, 1+2j, True, 'w3resource', (0, -1), [5, 12],\n",
        "{\"class\":'V', \"section\":'A'}]\n",
        "for item in datalist:\n",
        "   print (\"Type of \",item, \" is \", type(item))\n",
        "   "
      ],
      "metadata": {
        "colab": {
          "base_uri": "https://localhost:8080/"
        },
        "id": "ubChfg5YbFs7",
        "outputId": "e63226fc-6ab6-4f95-8e4d-c956b35badd6"
      },
      "execution_count": 8,
      "outputs": [
        {
          "output_type": "stream",
          "name": "stdout",
          "text": [
            "Type of  1452  is  <class 'int'>\n",
            "Type of  11.23  is  <class 'float'>\n",
            "Type of  (1+2j)  is  <class 'complex'>\n",
            "Type of  True  is  <class 'bool'>\n",
            "Type of  w3resource  is  <class 'str'>\n",
            "Type of  (0, -1)  is  <class 'tuple'>\n",
            "Type of  [5, 12]  is  <class 'list'>\n",
            "Type of  {'class': 'V', 'section': 'A'}  is  <class 'dict'>\n"
          ]
        }
      ]
    },
    {
      "cell_type": "code",
      "source": [
        "#8.Prints all the numbers from 0 to 6 except 3 and 6\n",
        "for x in range(6):\n",
        "    if (x == 3 or x==6):\n",
        "        continue\n",
        "    print(x,end=' ')\n",
        "print(\"\\n\")\n",
        "\t"
      ],
      "metadata": {
        "colab": {
          "base_uri": "https://localhost:8080/"
        },
        "id": "f95_feEpbZut",
        "outputId": "df8aad7f-5747-44e9-8dae-877c154d58e6"
      },
      "execution_count": 9,
      "outputs": [
        {
          "output_type": "stream",
          "name": "stdout",
          "text": [
            "0 1 2 4 5 \n",
            "\n"
          ]
        }
      ]
    },
    {
      "cell_type": "code",
      "source": [
        "#9.Fibonacci series between 0 to 50\n",
        "x,y=0,1\n",
        "\n",
        "while y<50:\n",
        "    print(y)\n",
        "    x,y = y,x+y\n",
        "\t"
      ],
      "metadata": {
        "colab": {
          "base_uri": "https://localhost:8080/"
        },
        "id": "WI9TO4ggbip1",
        "outputId": "86572259-871a-490a-e6f7-91c0291be571"
      },
      "execution_count": 31,
      "outputs": [
        {
          "output_type": "stream",
          "name": "stdout",
          "text": [
            "1\n",
            "1\n",
            "2\n",
            "3\n",
            "5\n",
            "8\n",
            "13\n",
            "21\n",
            "34\n"
          ]
        }
      ]
    },
    {
      "cell_type": "code",
      "source": [
        "#10.Get Fizz, Buzz and FizzBuzz\n",
        "for fizzbuzz in range(51):\n",
        "    if fizzbuzz % 3 == 0 and fizzbuzz % 5 == 0:\n",
        "        print(\"fizzbuzz\")\n",
        "        continue\n",
        "    elif fizzbuzz % 3 == 0:\n",
        "        print(\"fizz\")\n",
        "        continue\n",
        "    elif fizzbuzz % 5 == 0:\n",
        "        print(\"buzz\")\n",
        "        continue\n",
        "    print(fizzbuzz)\n",
        "\t"
      ],
      "metadata": {
        "colab": {
          "base_uri": "https://localhost:8080/"
        },
        "id": "WKQ0rZwUbtJf",
        "outputId": "594072f3-61c9-4f45-99e6-a786245e7c48"
      },
      "execution_count": 11,
      "outputs": [
        {
          "output_type": "stream",
          "name": "stdout",
          "text": [
            "fizzbuzz\n",
            "1\n",
            "2\n",
            "fizz\n",
            "4\n",
            "buzz\n",
            "fizz\n",
            "7\n",
            "8\n",
            "fizz\n",
            "buzz\n",
            "11\n",
            "fizz\n",
            "13\n",
            "14\n",
            "fizzbuzz\n",
            "16\n",
            "17\n",
            "fizz\n",
            "19\n",
            "buzz\n",
            "fizz\n",
            "22\n",
            "23\n",
            "fizz\n",
            "buzz\n",
            "26\n",
            "fizz\n",
            "28\n",
            "29\n",
            "fizzbuzz\n",
            "31\n",
            "32\n",
            "fizz\n",
            "34\n",
            "buzz\n",
            "fizz\n",
            "37\n",
            "38\n",
            "fizz\n",
            "buzz\n",
            "41\n",
            "fizz\n",
            "43\n",
            "44\n",
            "fizzbuzz\n",
            "46\n",
            "47\n",
            "fizz\n",
            "49\n",
            "buzz\n"
          ]
        }
      ]
    },
    {
      "cell_type": "code",
      "source": [
        "#11.Generates a two-dimensional array\n",
        "row_num = int(input(\"Input number of rows: \"))\n",
        "col_num = int(input(\"Input number of columns: \"))\n",
        "multi_list = [[0 for col in range(col_num)] for row in range(row_num)]\n",
        "\n",
        "for row in range(row_num):\n",
        "    for col in range(col_num):\n",
        "        multi_list[row][col]= row*col\n",
        "\n",
        "print(multi_list)\n",
        "\n"
      ],
      "metadata": {
        "colab": {
          "base_uri": "https://localhost:8080/"
        },
        "id": "MyjUZKfJb1XU",
        "outputId": "1260d47f-224b-4357-b2a1-16c9cfc5278e"
      },
      "execution_count": 23,
      "outputs": [
        {
          "output_type": "stream",
          "name": "stdout",
          "text": [
            "Input number of rows: 6\n",
            "Input number of columns: 5\n",
            "[[0, 0, 0, 0, 0], [0, 1, 2, 3, 4], [0, 2, 4, 6, 8], [0, 3, 6, 9, 12], [0, 4, 8, 12, 16], [0, 5, 10, 15, 20]]\n"
          ]
        }
      ]
    },
    {
      "cell_type": "code",
      "source": [
        "#13.Find numbers between two numbers where each digit of a number is an even number\n",
        "items = []\n",
        "for i in range(100, 401):\n",
        "    s = str(i)\n",
        "    if (int(s[0])%2==0) and (int(s[1])%2==0) and (int(s[2])%2==0):\n",
        "        items.append(s)\n",
        "print( \",\".join(items))\n"
      ],
      "metadata": {
        "id": "Jrbvv1whdDk-"
      },
      "execution_count": null,
      "outputs": []
    },
    {
      "cell_type": "code",
      "source": [
        "#14.Check the validity of a password\n",
        "import re\n",
        "p= input(\"Input your password\")\n",
        "x = True\n",
        "while x:  \n",
        "    if (len(p)<6 or len(p)>12):\n",
        "        break\n",
        "    elif not re.search(\"[a-z]\",p):\n",
        "        break\n",
        "    elif not re.search(\"[0-9]\",p):\n",
        "        break\n",
        "    elif not re.search(\"[A-Z]\",p):\n",
        "        break\n",
        "    elif not re.search(\"[$#@]\",p):\n",
        "        break\n",
        "    elif re.search(\"\\s\",p):\n",
        "        break\n",
        "    else:\n",
        "        print(\"Valid Password\")\n",
        "        x=False\n",
        "        break\n",
        "\n",
        "if x:\n",
        "    print(\"Not a Valid Password\")\n"
      ],
      "metadata": {
        "colab": {
          "base_uri": "https://localhost:8080/"
        },
        "id": "oaMk_BRUdLyX",
        "outputId": "8588dc5e-0983-44d9-d678-10e79de27940"
      },
      "execution_count": 22,
      "outputs": [
        {
          "output_type": "stream",
          "name": "stdout",
          "text": [
            "Input your passwordresder\n",
            "Not a Valid Password\n"
          ]
        }
      ]
    },
    {
      "cell_type": "code",
      "source": [
        "#15.Print the 4 digit binary numbers that are divisible by 5\n",
        "items = []\n",
        "num = [x for x in input().split(',')]\n",
        "for p in num:\n",
        "    x = int(p, 2)\n",
        "    if not x%5:\n",
        "        items.append(p)\n",
        "print(','.join(items))\n"
      ],
      "metadata": {
        "colab": {
          "base_uri": "https://localhost:8080/"
        },
        "id": "NaZXkPmYdRXW",
        "outputId": "bc338df2-8606-4e96-9f59-6bb1f01e7bdb"
      },
      "execution_count": 21,
      "outputs": [
        {
          "output_type": "stream",
          "name": "stdout",
          "text": [
            "0110\n",
            "\n"
          ]
        }
      ]
    },
    {
      "cell_type": "code",
      "source": [
        "#12.Calculate the number of digits and letters in a string\n",
        "s = input(\"Input a string\")\n",
        "d=l=0\n",
        "for c in s:\n",
        "    if c.isdigit():\n",
        "        d=d+1\n",
        "    elif c.isalpha():\n",
        "        l=l+1\n",
        "    else:\n",
        "        pass\n",
        "print(\"Letters\", l)\n",
        "print(\"Digits\", d)\n"
      ],
      "metadata": {
        "colab": {
          "base_uri": "https://localhost:8080/"
        },
        "id": "rfH9tKCbcDdl",
        "outputId": "f42c67c6-0a6e-4a20-db10-b3ac280233a8"
      },
      "execution_count": 19,
      "outputs": [
        {
          "output_type": "stream",
          "name": "stdout",
          "text": [
            "Input a stringres\n",
            "Letters 3\n",
            "Digits 0\n"
          ]
        }
      ]
    },
    {
      "cell_type": "code",
      "source": [
        "#16.Sequence of lines as input and prints the lines as output in lower case\n",
        "lines = []\n",
        "while True:\n",
        "    l = input()\n",
        "    if l:\n",
        "        lines.append(l.upper())\n",
        "    else:\n",
        "        break;\n",
        "\n",
        "for l in lines:\n",
        "    print(l)\n",
        "\t"
      ],
      "metadata": {
        "colab": {
          "base_uri": "https://localhost:8080/"
        },
        "id": "rYfRbMa7dX8X",
        "outputId": "d6d70c28-0a34-4bc0-fb41-e37594a202c3"
      },
      "execution_count": 24,
      "outputs": [
        {
          "output_type": "stream",
          "name": "stdout",
          "text": [
            "4\n",
            "6\n",
            "7\n",
            "9\n",
            "0\n",
            "\n",
            "4\n",
            "6\n",
            "7\n",
            "9\n",
            "0\n"
          ]
        }
      ]
    },
    {
      "cell_type": "code",
      "source": [
        "#17.Print alphabet pattern A\n",
        "result_str=\"\";    \n",
        "for row in range(0,7):    \n",
        "    for column in range(0,7):     \n",
        "        if (((column == 1 or column == 5) and row != 0) or ((row == 0 or row == 3) and (column > 1 and column < 5))):    \n",
        "            result_str=result_str+\"*\"    \n",
        "        else:      \n",
        "            result_str=result_str+\" \"    \n",
        "    result_str=result_str+\"\\n\"    \n",
        "print(result_str);\n"
      ],
      "metadata": {
        "colab": {
          "base_uri": "https://localhost:8080/"
        },
        "id": "_TPxAalmdzEW",
        "outputId": "f83f1e52-ad30-4ca8-fec1-e56bd8f0da8c"
      },
      "execution_count": 17,
      "outputs": [
        {
          "output_type": "stream",
          "name": "stdout",
          "text": [
            "  ***  \n",
            " *   * \n",
            " *   * \n",
            " ***** \n",
            " *   * \n",
            " *   * \n",
            " *   * \n",
            "\n"
          ]
        }
      ]
    },
    {
      "cell_type": "code",
      "source": [
        "#18.Print alphabet pattern E\n",
        "result_str=\"\";    \n",
        "for row in range(0,7):    \n",
        "    for column in range(0,7):     \n",
        "        if (column == 1 or ((row == 0 or row == 6) and (column > 1 and column < 6)) or (row == 3 and column > 1 and column < 5)):  \n",
        "            result_str=result_str+\"*\"    \n",
        "        else:      \n",
        "            result_str=result_str+\" \"    \n",
        "    result_str=result_str+\"\\n\"    \n",
        "print(result_str);\n",
        "\n",
        "\n"
      ],
      "metadata": {
        "colab": {
          "base_uri": "https://localhost:8080/"
        },
        "id": "FjpGuoILd0wo",
        "outputId": "697ff6a8-90a4-4db5-86b3-026f8bb09377"
      },
      "execution_count": 16,
      "outputs": [
        {
          "output_type": "stream",
          "name": "stdout",
          "text": [
            " ***** \n",
            " *     \n",
            " *     \n",
            " ****  \n",
            " *     \n",
            " *     \n",
            " ***** \n",
            "\n"
          ]
        }
      ]
    },
    {
      "cell_type": "code",
      "source": [
        "#19.Print alphabet pattern G\n",
        "result_str=\"\";    \n",
        "for row in range(0,7):    \n",
        "    for column in range(0,7):     \n",
        "        if ((column == 1 and row != 0 and row != 6) or ((row == 0 or row == 6) and column > 1 and column < 5) or (row == 3 and column > 2 and column < 6) or (column == 5 and row != 0 and row != 2 and row != 6)):  \n",
        "            result_str=result_str+\"*\"    \n",
        "        else:      \n",
        "            result_str=result_str+\" \"    \n",
        "    result_str=result_str+\"\\n\"    \n",
        "print(result_str);\n"
      ],
      "metadata": {
        "colab": {
          "base_uri": "https://localhost:8080/"
        },
        "id": "b6OhpONcfB_S",
        "outputId": "9cb2fc84-121c-4012-b73f-49cd00a2eddd"
      },
      "execution_count": 15,
      "outputs": [
        {
          "output_type": "stream",
          "name": "stdout",
          "text": [
            "  ***  \n",
            " *   * \n",
            " *     \n",
            " * *** \n",
            " *   * \n",
            " *   * \n",
            "  ***  \n",
            "\n"
          ]
        }
      ]
    },
    {
      "cell_type": "code",
      "source": [
        "#20.Print alphabet pattern M\n",
        "result_str=\"\";    \n",
        "for row in range(0,7):    \n",
        "    for column in range(0,7):     \n",
        "        if (column == 1 or column == 5 or (row == 2 and (column == 2 or column == 4)) or (row == 3 and column == 3)):  \n",
        "            result_str=result_str+\"* \"    \n",
        "        else:      \n",
        "            result_str=result_str+\"  \"    \n",
        "    result_str=result_str+\"\\n\"    \n",
        "print(result_str);\n"
      ],
      "metadata": {
        "colab": {
          "base_uri": "https://localhost:8080/"
        },
        "id": "6nm4munJgdTO",
        "outputId": "56991d3c-42e2-41b7-babd-15d93f39066e"
      },
      "execution_count": 26,
      "outputs": [
        {
          "output_type": "stream",
          "name": "stdout",
          "text": [
            "  *       *   \n",
            "  *       *   \n",
            "  * *   * *   \n",
            "  *   *   *   \n",
            "  *       *   \n",
            "  *       *   \n",
            "  *       *   \n",
            "\n"
          ]
        }
      ]
    },
    {
      "cell_type": "code",
      "source": [
        "#21.Print alphabet pattern O\n",
        "result_str=\"\";    \n",
        "for row in range(0,7):    \n",
        "    for column in range(0,7):     \n",
        "        if (((column == 1 or column == 5) and row != 0 and row != 6) or ((row == 0 or row == 6) and column > 1 and column < 5)):  \n",
        "            result_str=result_str+\"*\"    \n",
        "        else:      \n",
        "            result_str=result_str+\" \"    \n",
        "    result_str=result_str+\"\\n\"    \n",
        "print(result_str);\n"
      ],
      "metadata": {
        "colab": {
          "base_uri": "https://localhost:8080/"
        },
        "id": "rczVWcWBg7ji",
        "outputId": "05dcf3dd-5b7f-48f7-cfb4-44ba7fefa3f7"
      },
      "execution_count": 27,
      "outputs": [
        {
          "output_type": "stream",
          "name": "stdout",
          "text": [
            "  ***  \n",
            " *   * \n",
            " *   * \n",
            " *   * \n",
            " *   * \n",
            " *   * \n",
            "  ***  \n",
            "\n"
          ]
        }
      ]
    },
    {
      "cell_type": "code",
      "source": [
        "#22.Print alphabet pattern R\n",
        "result_str=\"\";    \n",
        "for row in range(0,7):    \n",
        "    for column in range(0,7):     \n",
        "        if (column == 1 or ((row == 0 or row == 3) and column > 1 and column < 5) or (column == 5 and row != 0 and row < 3) or (column == row - 1 and row > 2)):  \n",
        "            result_str=result_str+\"*\"    \n",
        "        else:      \n",
        "            result_str=result_str+\" \"    \n",
        "    result_str=result_str+\"\\n\"    \n",
        "print(result_str);\n"
      ],
      "metadata": {
        "colab": {
          "base_uri": "https://localhost:8080/"
        },
        "id": "3AoBjBlZhHFY",
        "outputId": "0af8e2ed-35d5-41f0-ed72-d134082abca3"
      },
      "execution_count": 28,
      "outputs": [
        {
          "output_type": "stream",
          "name": "stdout",
          "text": [
            " ****  \n",
            " *   * \n",
            " *   * \n",
            " ****  \n",
            " * *   \n",
            " *  *  \n",
            " *   * \n",
            "\n"
          ]
        }
      ]
    },
    {
      "cell_type": "code",
      "source": [
        "#23.Print alphabet pattern P\n",
        "result_str=\"\";    \n",
        "for row in range(0,7):    \n",
        "    for column in range(0,7):     \n",
        "        if (column == 1 or ((row == 0 or row == 3) and column > 0 and column < 5) or ((column == 5 or column == 1) and (row == 1 or row == 2))):  \n",
        "            result_str=result_str+\"*\"    \n",
        "        else:      \n",
        "            result_str=result_str+\" \"    \n",
        "    result_str=result_str+\"\\n\"    \n",
        "print(result_str);\n"
      ],
      "metadata": {
        "colab": {
          "base_uri": "https://localhost:8080/"
        },
        "id": "f1xSeRqIhNzu",
        "outputId": "6c5764a5-2d97-4e1c-b408-58b29dfe9f26"
      },
      "execution_count": 29,
      "outputs": [
        {
          "output_type": "stream",
          "name": "stdout",
          "text": [
            " ****  \n",
            " *   * \n",
            " *   * \n",
            " ****  \n",
            " *     \n",
            " *     \n",
            " *     \n",
            "\n"
          ]
        }
      ]
    },
    {
      "cell_type": "code",
      "source": [
        "#Print alphabet pattern L\n",
        "result_str=\"\";    \n",
        "for row in range(0,7):    \n",
        "    for column in range(0,7):     \n",
        "        if (column == 1 or (row == 6 and column != 0 and column < 6)):  \n",
        "            result_str=result_str+\"*\"    \n",
        "        else:      \n",
        "            result_str=result_str+\" \"    \n",
        "    result_str=result_str+\"\\n\"    \n",
        "print(result_str);\n"
      ],
      "metadata": {
        "colab": {
          "base_uri": "https://localhost:8080/"
        },
        "id": "Iol-ERBihn9a",
        "outputId": "e8c99b62-66a9-4d43-a138-4adf9c4332ea"
      },
      "execution_count": 30,
      "outputs": [
        {
          "output_type": "stream",
          "name": "stdout",
          "text": [
            " *     \n",
            " *     \n",
            " *     \n",
            " *     \n",
            " *     \n",
            " *     \n",
            " ***** \n",
            "\n"
          ]
        }
      ]
    }
  ]
}