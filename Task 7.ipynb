{
  "nbformat": 4,
  "nbformat_minor": 0,
  "metadata": {
    "colab": {
      "provenance": []
    },
    "kernelspec": {
      "name": "python3",
      "display_name": "Python 3"
    },
    "language_info": {
      "name": "python"
    }
  },
  "cells": [
    {
      "cell_type": "code",
      "execution_count": 1,
      "metadata": {
        "colab": {
          "base_uri": "https://localhost:8080/"
        },
        "id": "XA7Pt7UE8H71",
        "outputId": "5cf565eb-9c57-4e7b-8819-aa3b20c6b9f7"
      },
      "outputs": [
        {
          "output_type": "stream",
          "name": "stdout",
          "text": [
            "ascending order :  [(0, 0), (2, 1), (1, 2), (4, 3), (3, 4)]\n",
            "descending order :  {3: 4, 4: 3, 1: 2, 2: 1, 0: 0}\n"
          ]
        }
      ],
      "source": [
        "#ASCENDING AND DESCENDING\n",
        "\n",
        "import operator\n",
        "\n",
        "d = {1: 2, 3: 4, 4: 3, 2: 1, 0: 0}\n",
        "\n",
        "s= sorted(d.items(), key=operator.itemgetter(1))\n",
        "\n",
        "print('ascending order : ',s)\n",
        "\n",
        "s1= dict( sorted(d.items(), key=operator.itemgetter(1),reverse=True))\n",
        "\n",
        "print('descending order : ',s1)"
      ]
    },
    {
      "cell_type": "code",
      "source": [
        "#Python script to check whether a given key already exists in a dictionary.\n",
        "\n",
        "d = {1: 10, 2: 20, 3: 30, 4: 40, 5: 50}\n",
        "def is_key_present(x):\n",
        "  if x in d:\n",
        "      print('Key is present in the dictionary')\n",
        "  else:\n",
        "      print('Key is not present in the dictionary')\n",
        "is_key_present(5)\n",
        "is_key_present(9)\n"
      ],
      "metadata": {
        "colab": {
          "base_uri": "https://localhost:8080/"
        },
        "id": "yeCZn9FW8bs_",
        "outputId": "3c0e8f76-ef2e-4478-f08d-22e482af2317"
      },
      "execution_count": 2,
      "outputs": [
        {
          "output_type": "stream",
          "name": "stdout",
          "text": [
            "Key is present in the dictionary\n",
            "Key is not present in the dictionary\n"
          ]
        }
      ]
    },
    {
      "cell_type": "code",
      "source": [
        "#Python program to iterate over dictionaries using for loops\n",
        "\n",
        "d = {'Red': 1, 'Green': 2, 'Blue': 3} \n",
        "for color_key, value in d.items():\n",
        "     print(color_key, 'corresponds to ', d[color_key]) \n"
      ],
      "metadata": {
        "colab": {
          "base_uri": "https://localhost:8080/"
        },
        "id": "EYZTk3cZ83GA",
        "outputId": "41f3c1db-7381-4dd5-f4b3-1531c6763332"
      },
      "execution_count": 3,
      "outputs": [
        {
          "output_type": "stream",
          "name": "stdout",
          "text": [
            "Red corresponds to  1\n",
            "Green corresponds to  2\n",
            "Blue corresponds to  3\n"
          ]
        }
      ]
    },
    {
      "cell_type": "code",
      "source": [
        "#Python script to merge two Python dictionaries\n",
        "\n",
        "d1 = {'a': 100, 'b': 200}\n",
        "d2 = {'x': 300, 'y': 200}\n",
        "d = d1.copy()\n",
        "d.update(d2)\n",
        "print(d)"
      ],
      "metadata": {
        "colab": {
          "base_uri": "https://localhost:8080/"
        },
        "id": "clSALQAL9G-m",
        "outputId": "9f42c649-3041-4dce-8554-e34c2f0bd482"
      },
      "execution_count": 4,
      "outputs": [
        {
          "output_type": "stream",
          "name": "stdout",
          "text": [
            "{'a': 100, 'b': 200, 'x': 300, 'y': 200}\n"
          ]
        }
      ]
    },
    {
      "cell_type": "code",
      "source": [
        "#Python program to sum all the items in a dictionary\n",
        "\n",
        "my_dict = {'data1':100,'data2':-54,'data3':247}\n",
        "print(sum(my_dict.values()))\n"
      ],
      "metadata": {
        "colab": {
          "base_uri": "https://localhost:8080/"
        },
        "id": "J5hZC-8R9TVs",
        "outputId": "336355ae-661e-4476-e40f-49fbcc8c4986"
      },
      "execution_count": 5,
      "outputs": [
        {
          "output_type": "stream",
          "name": "stdout",
          "text": [
            "293\n"
          ]
        }
      ]
    },
    {
      "cell_type": "code",
      "source": [
        "#Python program to multiply all the items in a dictionary.\n",
        "\n",
        "my_dict = {'data1':100,'data2':-54,'data3':247}\n",
        "result=1\n",
        "for key in my_dict:    \n",
        "    result=result * my_dict[key]\n",
        "\n",
        "print(result)\n"
      ],
      "metadata": {
        "colab": {
          "base_uri": "https://localhost:8080/"
        },
        "id": "TxSFsms99enE",
        "outputId": "363f2bab-4c1d-413d-9ffc-47694a4300bc"
      },
      "execution_count": 6,
      "outputs": [
        {
          "output_type": "stream",
          "name": "stdout",
          "text": [
            "-1333800\n"
          ]
        }
      ]
    },
    {
      "cell_type": "code",
      "source": [
        "# Python program to remove a key from a dictionary\n",
        "\n",
        "myDict = {'a':1,'b':2,'c':3,'d':4}\n",
        "print(myDict)\n",
        "if 'a' in myDict: \n",
        "    del myDict['a']\n",
        "print(myDict)\n"
      ],
      "metadata": {
        "colab": {
          "base_uri": "https://localhost:8080/"
        },
        "id": "cGu2RmOh9naS",
        "outputId": "29507a68-1e01-4f24-9f20-a8942f46b497"
      },
      "execution_count": 7,
      "outputs": [
        {
          "output_type": "stream",
          "name": "stdout",
          "text": [
            "{'a': 1, 'b': 2, 'c': 3, 'd': 4}\n",
            "{'b': 2, 'c': 3, 'd': 4}\n"
          ]
        }
      ]
    },
    {
      "cell_type": "code",
      "source": [
        "# Python program to map two lists into a dictionary\n",
        "\n",
        "keys = ['red', 'green', 'blue']\n",
        "values = ['#FF0000','#008000', '#0000FF']\n",
        "color_dictionary = dict(zip(keys, values))\n",
        "print(color_dictionary)\n"
      ],
      "metadata": {
        "colab": {
          "base_uri": "https://localhost:8080/"
        },
        "id": "P6Gtzkhl94Vu",
        "outputId": "1e47e5de-5664-4011-e85e-886112a287f6"
      },
      "execution_count": 8,
      "outputs": [
        {
          "output_type": "stream",
          "name": "stdout",
          "text": [
            "{'red': '#FF0000', 'green': '#008000', 'blue': '#0000FF'}\n"
          ]
        }
      ]
    },
    {
      "cell_type": "code",
      "source": [
        "# Python program to sort a given dictionary by key\n",
        "\n",
        "color_dict = {'red':'#FF0000',\n",
        "          'green':'#008000',\n",
        "          'black':'#000000',\n",
        "          'white':'#FFFFFF'}\n",
        "\n",
        "for key in sorted(color_dict):\n",
        "    print(\"%s: %s\" % (key, color_dict[key]))\n",
        "\t"
      ],
      "metadata": {
        "colab": {
          "base_uri": "https://localhost:8080/"
        },
        "id": "73Kfcx0c-EEp",
        "outputId": "ac24de89-3e07-41ab-e817-d579a05e0471"
      },
      "execution_count": 9,
      "outputs": [
        {
          "output_type": "stream",
          "name": "stdout",
          "text": [
            "black: #000000\n",
            "green: #008000\n",
            "red: #FF0000\n",
            "white: #FFFFFF\n"
          ]
        }
      ]
    },
    {
      "cell_type": "code",
      "source": [
        "# Python program to get the maximum and minimum value in a dictionary.\n",
        "\n",
        "my_dict = {'x':500, 'y':5874, 'z': 560}\n",
        "\n",
        "key_max = max(my_dict.keys(), key=(lambda k: my_dict[k]))\n",
        "key_min = min(my_dict.keys(), key=(lambda k: my_dict[k]))\n",
        "\n",
        "print('Maximum Value: ',my_dict[key_max])\n",
        "print('Minimum Value: ',my_dict[key_min])\n"
      ],
      "metadata": {
        "colab": {
          "base_uri": "https://localhost:8080/"
        },
        "id": "q6tbCd3b-L28",
        "outputId": "8a5a4387-95d8-4961-c7e7-f4683cea2cd7"
      },
      "execution_count": 10,
      "outputs": [
        {
          "output_type": "stream",
          "name": "stdout",
          "text": [
            "Maximum Value:  5874\n",
            "Minimum Value:  500\n"
          ]
        }
      ]
    },
    {
      "cell_type": "code",
      "source": [
        "# Python program to get a dictionary from an object's fields\n",
        "\n",
        "class dictObj(object):\n",
        "     def __init__(self):\n",
        "         self.x = 'red'\n",
        "         self.y = 'Yellow'\n",
        "         self.z = 'Green'\n",
        "     def do_nothing(self):\n",
        "         pass\n",
        "test = dictObj()\n",
        "print(test.__dict__)\n"
      ],
      "metadata": {
        "colab": {
          "base_uri": "https://localhost:8080/"
        },
        "id": "xYPn0Q7g-U6O",
        "outputId": "f2276422-4014-452d-94b6-91cbe1f519a3"
      },
      "execution_count": 11,
      "outputs": [
        {
          "output_type": "stream",
          "name": "stdout",
          "text": [
            "{'x': 'red', 'y': 'Yellow', 'z': 'Green'}\n"
          ]
        }
      ]
    },
    {
      "cell_type": "code",
      "source": [
        "# Python program to remove duplicates from Dictionary\n",
        "\n",
        "dict1 = {'A': 20, 'B': 15, 'C': 20, 'D': 10, 'E': 20}\n",
        "\n",
        "temp = {val: key for key, val in dict1.items()}\n",
        "res = {val: key for key, val in temp.items()}\n",
        "\n",
        "print(res)"
      ],
      "metadata": {
        "colab": {
          "base_uri": "https://localhost:8080/"
        },
        "id": "0dtiIg9v-f2C",
        "outputId": "8ba89f57-edba-4cae-ac00-763815ed2f53"
      },
      "execution_count": 13,
      "outputs": [
        {
          "output_type": "stream",
          "name": "stdout",
          "text": [
            "{'E': 20, 'B': 15, 'D': 10}\n"
          ]
        }
      ]
    },
    {
      "cell_type": "code",
      "source": [
        "# Python program to check a dictionary is empty or not\n",
        "\n",
        "my_dict = {}\n",
        "\n",
        "if not bool(my_dict):\n",
        "    print(\"Dictionary is empty\")\n",
        "\t"
      ],
      "metadata": {
        "colab": {
          "base_uri": "https://localhost:8080/"
        },
        "id": "8V7PyntA_Xww",
        "outputId": "85eb40fe-a0ae-4c3c-895a-9c903bcde195"
      },
      "execution_count": 14,
      "outputs": [
        {
          "output_type": "stream",
          "name": "stdout",
          "text": [
            "Dictionary is empty\n"
          ]
        }
      ]
    },
    {
      "cell_type": "code",
      "source": [
        "# Python program to combine two dictionary adding values for common keys\n",
        "\n",
        "from collections import Counter\n",
        "d1 = {'a': 100, 'b': 200, 'c':300}\n",
        "d2 = {'a': 300, 'b': 200, 'd':400}\n",
        "d = Counter(d1) + Counter(d2)\n",
        "print(d)\n"
      ],
      "metadata": {
        "colab": {
          "base_uri": "https://localhost:8080/"
        },
        "id": "ZdIhlxe2_wD-",
        "outputId": "962944a0-71c1-4d5b-fd9b-1b5257434b3d"
      },
      "execution_count": 15,
      "outputs": [
        {
          "output_type": "stream",
          "name": "stdout",
          "text": [
            "Counter({'a': 400, 'b': 400, 'd': 400, 'c': 300})\n"
          ]
        }
      ]
    },
    {
      "cell_type": "code",
      "source": [
        "# Python program to print all unique values in a dictionary.\n",
        "\n",
        "L = [{\"V\":\"S001\"}, {\"V\": \"S002\"}, {\"VI\": \"S001\"}, {\"VI\": \"S005\"}, {\"VII\":\"S005\"}, {\"V\":\"S009\"},{\"VIII\":\"S007\"}]\n",
        "print(\"Original List: \",L)\n",
        "u_value = set( val for dic in L for val in dic.values())\n",
        "print(\"Unique Values: \",u_value)\n"
      ],
      "metadata": {
        "colab": {
          "base_uri": "https://localhost:8080/"
        },
        "id": "Py79xVGCABBr",
        "outputId": "38ef4ddf-f929-4c0f-cd84-3923ece1f463"
      },
      "execution_count": 16,
      "outputs": [
        {
          "output_type": "stream",
          "name": "stdout",
          "text": [
            "Original List:  [{'V': 'S001'}, {'V': 'S002'}, {'VI': 'S001'}, {'VI': 'S005'}, {'VII': 'S005'}, {'V': 'S009'}, {'VIII': 'S007'}]\n",
            "Unique Values:  {'S007', 'S001', 'S002', 'S005', 'S009'}\n"
          ]
        }
      ]
    },
    {
      "cell_type": "code",
      "source": [
        "# Python script to concatenate following dictionaries to create a new one\n",
        "\n",
        "dic1={1:10, 2:20}\n",
        "dic2={3:30, 4:40}\n",
        "dic3={5:50,6:60}\n",
        "dic4 = {}\n",
        "for d in (dic1, dic2, dic3): dic4.update(d)\n",
        "print(dic4)\n"
      ],
      "metadata": {
        "colab": {
          "base_uri": "https://localhost:8080/"
        },
        "id": "3axd3kMmAUT7",
        "outputId": "ac9f5d88-8446-454f-bb40-10c783edbe2a"
      },
      "execution_count": 17,
      "outputs": [
        {
          "output_type": "stream",
          "name": "stdout",
          "text": [
            "{1: 10, 2: 20, 3: 30, 4: 40, 5: 50, 6: 60}\n"
          ]
        }
      ]
    },
    {
      "cell_type": "code",
      "source": [
        "# Python script to print a dictionary where the keys are numbers between 1 and 15 \n",
        "# (both included) and the values are square of keys. \n",
        "\n",
        "d=dict()\n",
        "for x in range(1,16):\n",
        "    d[x]=x**2\n",
        "print(d)  \n"
      ],
      "metadata": {
        "colab": {
          "base_uri": "https://localhost:8080/"
        },
        "id": "-RXdYQu5Agjo",
        "outputId": "274868b7-69cd-4a88-dc5e-2c34f7f155b3"
      },
      "execution_count": 18,
      "outputs": [
        {
          "output_type": "stream",
          "name": "stdout",
          "text": [
            "{1: 1, 2: 4, 3: 9, 4: 16, 5: 25, 6: 36, 7: 49, 8: 64, 9: 81, 10: 100, 11: 121, 12: 144, 13: 169, 14: 196, 15: 225}\n"
          ]
        }
      ]
    },
    {
      "cell_type": "code",
      "source": [
        "'''Python script to generate and print a dictionary that contains a number (between 1 and n) in the form (x, x*x). Go to the editor\n",
        "Sample Dictionary'''\n",
        "\n",
        "n=int(input(\"Input a number \"))\n",
        "d = dict()\n",
        "\n",
        "for x in range(1,n+1):\n",
        "    d[x]=x*x\n",
        "\n",
        "print(d) \n"
      ],
      "metadata": {
        "colab": {
          "base_uri": "https://localhost:8080/"
        },
        "id": "HiGkQVkTA0r4",
        "outputId": "e7ded910-82b2-48ac-c49c-641f21412f49"
      },
      "execution_count": 19,
      "outputs": [
        {
          "output_type": "stream",
          "name": "stdout",
          "text": [
            "Input a number 7\n",
            "{1: 1, 2: 4, 3: 9, 4: 16, 5: 25, 6: 36, 7: 49}\n"
          ]
        }
      ]
    }
  ]
}