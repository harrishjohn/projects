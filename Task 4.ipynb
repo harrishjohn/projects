{
  "nbformat": 4,
  "nbformat_minor": 0,
  "metadata": {
    "colab": {
      "provenance": []
    },
    "kernelspec": {
      "name": "python3",
      "display_name": "Python 3"
    },
    "language_info": {
      "name": "python"
    }
  },
  "cells": [
    {
      "cell_type": "code",
      "execution_count": 33,
      "metadata": {
        "colab": {
          "base_uri": "https://localhost:8080/"
        },
        "id": "GOYSiqd_OaZE",
        "outputId": "f9790434-e22d-49fa-c408-329695cb59cf"
      },
      "outputs": [
        {
          "output_type": "stream",
          "name": "stdout",
          "text": [
            "Generate a random color hex:\n",
            "#1cf44d\n",
            "\n",
            "Generate a random alphabetical string:\n",
            "fxkVZQtqMnMcLRkBOzZUGxIC\n",
            "Generate a random value between two integers, inclusive:\n",
            "8\n",
            "-3\n",
            "1\n",
            "Generate a random multiple of 7 between 0 and 70:\n",
            "0\n"
          ]
        }
      ],
      "source": [
        "#1.Generate a random color hex, alphabetical string, random value and multiple of 7\n",
        "import random\n",
        "import string\n",
        "print(\"Generate a random color hex:\")\n",
        "print(\"#{:06x}\".format(random.randint(0, 0xFFFFFF)))\n",
        "print(\"\\nGenerate a random alphabetical string:\")\n",
        "max_length = 255\n",
        "s = \"\"\n",
        "for i in range(random.randint(1, max_length)):\n",
        "    s += random.choice(string.ascii_letters)\n",
        "print(s)\n",
        "print(\"Generate a random value between two integers, inclusive:\")\n",
        "print(random.randint(0, 10))\n",
        "print(random.randint(-7, 7))\n",
        "print(random.randint(1, 1))\n",
        "print(\"Generate a random multiple of 7 between 0 and 70:\")\n",
        "print(random.randint(0, 10) * 7)\n"
      ]
    },
    {
      "cell_type": "code",
      "source": [
        "#2.random element from a list, set, dictionary and a file from a directory\n",
        "import random\n",
        "import os\n",
        "print(\"Select a random element from a list:\")\n",
        "elements = [1, 2, 3, 4, 5]\n",
        "print(random.choice(elements))\n",
        "print(random.choice(elements))\n",
        "print(random.choice(elements))\n",
        "print(\"\\nSelect a random element from a set:\")\n",
        "elements = set([1, 2, 3, 4, 5])\n",
        "# convert to tuple because sets are invalid inputs\n",
        "print(random.choice(tuple(elements)))\n",
        "print(random.choice(tuple(elements)))\n",
        "print(random.choice(tuple(elements)))\n",
        "print(\"\\nSelect a random value from a dictionary:\")\n",
        "d = {\"a\": 1, \"b\": 2, \"c\": 3, \"d\": 4, \"e\": 5}\n",
        "key = random.choice(list(d))\n",
        "print(d[key])\n",
        "key = random.choice(list(d))\n",
        "print(d[key])\n",
        "key = random.choice(list(d))\n",
        "print(d[key]) \n",
        "print(\"\\nSelect a random file from a directory.:\")\n",
        "print(random.choice(os.listdir(\"/\")))\n"
      ],
      "metadata": {
        "colab": {
          "base_uri": "https://localhost:8080/"
        },
        "id": "71bTttxHPf97",
        "outputId": "53fb961f-dc4e-416a-a399-5c0115468e9d"
      },
      "execution_count": 34,
      "outputs": [
        {
          "output_type": "stream",
          "name": "stdout",
          "text": [
            "Select a random element from a list:\n",
            "3\n",
            "4\n",
            "3\n",
            "\n",
            "Select a random element from a set:\n",
            "4\n",
            "4\n",
            "5\n",
            "\n",
            "Select a random value from a dictionary:\n",
            "2\n",
            "5\n",
            "2\n",
            "\n",
            "Select a random file from a directory.:\n",
            "bin\n"
          ]
        }
      ]
    },
    {
      "cell_type": "code",
      "source": [
        "#3.Generate a random alphabetical character, string and alphabetical string of a fixed length\n",
        "import random\n",
        "import string\n",
        "print(\"Generate a random alphabetical character:\")\n",
        "print(random.choice(string.ascii_letters))\n",
        "print(\"\\nGenerate a random alphabetical string:\")\n",
        "max_length = 255\n",
        "str1 = \"\"\n",
        "for i in range(random.randint(1, max_length)):\n",
        "    str1 += random.choice(string.ascii_letters)\n",
        "print(str1)\n",
        "print(\"\\nGenerate a random alphabetical string of a fixed length:\")\n",
        "str1 = \"\"\n",
        "for i in range(10):\n",
        "    str1 += random.choice(string.ascii_letters)\n",
        "print(str1)\n"
      ],
      "metadata": {
        "colab": {
          "base_uri": "https://localhost:8080/"
        },
        "id": "4c5D-k20QB6b",
        "outputId": "568aeced-d953-4802-d884-659e04045dab"
      },
      "execution_count": 4,
      "outputs": [
        {
          "output_type": "stream",
          "name": "stdout",
          "text": [
            "Generate a random alphabetical character:\n",
            "u\n",
            "\n",
            "Generate a random alphabetical string:\n",
            "fudPFEGCzFPnlpnFIQNLYHgzCLeNWGeXHwpkWwaPYluolwtTJLeZtnXSwxXnUyyJCWpbTgFfmOIUqoJ\n",
            "\n",
            "Generate a random alphabetical string of a fixed length:\n",
            "PwHNoQxESU\n"
          ]
        }
      ]
    },
    {
      "cell_type": "code",
      "source": [
        "#4.Construct a seeded random number and float number generator\n",
        "import random\n",
        "print(\"Construct a seeded random number generator:\")\n",
        "print(random.Random().random())\n",
        "print(random.Random(0).random())\n",
        "print(\"\\nGenerate a float between 0 and 1, excluding 1:\")\n",
        "print(random.random())\n"
      ],
      "metadata": {
        "colab": {
          "base_uri": "https://localhost:8080/"
        },
        "id": "6NaZLknnRqe3",
        "outputId": "6cd6873c-d488-4610-c21c-240ba63eeeba"
      },
      "execution_count": 5,
      "outputs": [
        {
          "output_type": "stream",
          "name": "stdout",
          "text": [
            "Construct a seeded random number generator:\n",
            "0.42977733674648144\n",
            "0.8444218515250481\n",
            "\n",
            "Generate a float between 0 and 1, excluding 1:\n",
            "0.6466817923293038\n"
          ]
        }
      ]
    },
    {
      "cell_type": "code",
      "source": [
        "#5.Generate a random integer and date\n",
        "import random\n",
        "import datetime\n",
        "print(\"Generate a random integer between 0 and 6:\")\n",
        "print(random.randrange(5))\n",
        "print(\"Generate random integer between 5 and 10, excluding 10:\")\n",
        "print(random.randrange(start=5, stop=10))\n",
        "print(\"Generate random integer between 0 and 10, with a step of 3:\")\n",
        "print(random.randrange(start=0, stop=10, step=3))\n",
        "print(\"\\nRandom date between two dates:\")\n",
        "start_dt = datetime.date(2019, 2, 1)\n",
        "end_dt = datetime.date(2019, 3, 1)\n",
        "time_between_dates = end_dt - start_dt\n",
        "days_between_dates = time_between_dates.days\n",
        "random_number_of_days = random.randrange(days_between_dates)\n",
        "random_date = start_dt + datetime.timedelta(days=random_number_of_days)\n",
        "print(random_date)\n"
      ],
      "metadata": {
        "colab": {
          "base_uri": "https://localhost:8080/"
        },
        "id": "oXfy5fJ_R3UT",
        "outputId": "5034c118-e6ff-426c-af19-9857dbefc098"
      },
      "execution_count": 6,
      "outputs": [
        {
          "output_type": "stream",
          "name": "stdout",
          "text": [
            "Generate a random integer between 0 and 6:\n",
            "0\n",
            "Generate random integer between 5 and 10, excluding 10:\n",
            "8\n",
            "Generate random integer between 0 and 10, with a step of 3:\n",
            "0\n",
            "\n",
            "Random date between two dates:\n",
            "2019-02-05\n"
          ]
        }
      ]
    },
    {
      "cell_type": "code",
      "source": [
        "#6.Shuffle the elements of a given list\n",
        "import random \n",
        "nums = [1, 2, 3, 4, 5]\n",
        "print(\"Original list:\")\n",
        "print(nums)\n",
        "random.shuffle(nums)\n",
        "print(\"Shuffle list:\")\n",
        "print(nums)\n",
        "words = ['red', 'black', 'green', 'blue']\n",
        "print(\"\\nOriginal list:\")\n",
        "print(words)\n",
        "random.shuffle(words)\n",
        "print(\"Shuffle list:\")\n",
        "print(words)\n"
      ],
      "metadata": {
        "colab": {
          "base_uri": "https://localhost:8080/"
        },
        "id": "z87Pn785SOcr",
        "outputId": "c087f441-f77f-4c91-e4a7-d44c41fdba66"
      },
      "execution_count": 7,
      "outputs": [
        {
          "output_type": "stream",
          "name": "stdout",
          "text": [
            "Original list:\n",
            "[1, 2, 3, 4, 5]\n",
            "Shuffle list:\n",
            "[3, 5, 1, 2, 4]\n",
            "\n",
            "Original list:\n",
            "['red', 'black', 'green', 'blue']\n",
            "Shuffle list:\n",
            "['green', 'blue', 'red', 'black']\n"
          ]
        }
      ]
    },
    {
      "cell_type": "code",
      "source": [
        "#7.Generate a random float within a specific range\n",
        "import random \n",
        "print(\"Generate a float between 0 and 1, inclusive:\")\n",
        "print(random.uniform(0, 1))\n",
        "print(\"\\nGenerate a random float within a range:\")\n",
        "random_float = random.uniform(1.0, 3.0)\n",
        "print(random_float)\n"
      ],
      "metadata": {
        "colab": {
          "base_uri": "https://localhost:8080/"
        },
        "id": "9diehJ4sSfpR",
        "outputId": "1429cb44-becd-4724-838b-bab2798c4f56"
      },
      "execution_count": 8,
      "outputs": [
        {
          "output_type": "stream",
          "name": "stdout",
          "text": [
            "Generate a float between 0 and 1, inclusive:\n",
            "0.6232715481130221\n",
            "\n",
            "Generate a random float within a range:\n",
            "2.3889237753032897\n"
          ]
        }
      ]
    },
    {
      "cell_type": "code",
      "source": [
        "#8.import random-Create a list of random integers and select multiple items from the said list\n",
        "print(\"Create a list of random integers:\")\n",
        "population = range(0, 100)\n",
        "nums_list = random.sample(population, 10)\n",
        "print(nums_list)\n",
        "no_elements = 4\n",
        "print(\"\\nRandomly select\",no_elements,\"multiple items from the said list:\")\n",
        "result_elements = random.sample(nums_list, no_elements)\n",
        "print(result_elements)\n",
        "no_elements = 8\n",
        "print(\"\\nRandomly select\",no_elements,\"multiple items from the said list:\")\n",
        "result_elements = random.sample(nums_list, no_elements)\n",
        "print(result_elements)\n"
      ],
      "metadata": {
        "colab": {
          "base_uri": "https://localhost:8080/"
        },
        "id": "5iTRZGopSyqf",
        "outputId": "5f0a934e-c061-41fa-ab1c-e4ff24d41a34"
      },
      "execution_count": 9,
      "outputs": [
        {
          "output_type": "stream",
          "name": "stdout",
          "text": [
            "Create a list of random integers:\n",
            "[48, 92, 39, 57, 83, 34, 32, 23, 88, 43]\n",
            "\n",
            "Randomly select 4 multiple items from the said list:\n",
            "[23, 32, 43, 83]\n",
            "\n",
            "Randomly select 8 multiple items from the said list:\n",
            "[43, 23, 32, 92, 34, 88, 83, 48]\n"
          ]
        }
      ]
    },
    {
      "cell_type": "code",
      "source": [
        "#9.Set a random seed and get a random number between 0 and 1\n",
        "import random \n",
        "print(\"Set a random seed and get a random number between 0 and 1:\")\n",
        "random.seed(0)\n",
        "new_random_value = random.random()\n",
        "print(new_random_value)\n",
        "random.seed(1)\n",
        "new_random_value = random.random()\n",
        "print(new_random_value)\n",
        "random.seed(2)\n",
        "new_random_value = random.random()\n",
        "print(new_random_value)\n"
      ],
      "metadata": {
        "colab": {
          "base_uri": "https://localhost:8080/"
        },
        "id": "esZUZIIgTJ_8",
        "outputId": "8f2a4d88-eb71-4b6d-806a-9567a0e8f11d"
      },
      "execution_count": 10,
      "outputs": [
        {
          "output_type": "stream",
          "name": "stdout",
          "text": [
            "Set a random seed and get a random number between 0 and 1:\n",
            "0.8444218515250481\n",
            "0.13436424411240122\n",
            "0.9560342718892494\n"
          ]
        }
      ]
    },
    {
      "cell_type": "code",
      "source": [
        "#1.Check if a function is a user-defined function or not\n",
        "import types\n",
        "def func(): \n",
        "    return 1\n",
        "\n",
        "print(isinstance(func, types.FunctionType))\n",
        "print(isinstance(func, types.LambdaType))\n",
        "print(isinstance(lambda x: x, types.FunctionType))\n",
        "print(isinstance(lambda x: x, types.LambdaType))\n",
        "print(isinstance(max, types.FunctionType))\n",
        "print(isinstance(max, types.LambdaType))\n",
        "print(isinstance(abs, types.FunctionType))\n",
        "print(isinstance(abs, types.LambdaType))\n"
      ],
      "metadata": {
        "colab": {
          "base_uri": "https://localhost:8080/"
        },
        "id": "laxEH2dvTPD1",
        "outputId": "b68aaad3-69e6-46b0-a356-9ec14fa59bb6"
      },
      "execution_count": 11,
      "outputs": [
        {
          "output_type": "stream",
          "name": "stdout",
          "text": [
            "True\n",
            "True\n",
            "True\n",
            "True\n",
            "False\n",
            "False\n",
            "False\n",
            "False\n"
          ]
        }
      ]
    },
    {
      "cell_type": "code",
      "source": [
        "#2.Check if a given value is a method of a user-defined class\n",
        "import types\n",
        "class C:\n",
        "    def x():\n",
        "        return 1\n",
        "    def y():\n",
        "        return 1    \n",
        "        \n",
        "def b():\n",
        "    return 2\n",
        "\n",
        "print(isinstance(C().x, types.MethodType))\n",
        "print(isinstance(C().y, types.MethodType))\n",
        "print(isinstance(b, types.MethodType))\n",
        "print(isinstance(max, types.MethodType))\n",
        "print(isinstance(abs, types.MethodType))\n"
      ],
      "metadata": {
        "colab": {
          "base_uri": "https://localhost:8080/"
        },
        "id": "5WSOjvjkTf5Z",
        "outputId": "3700f819-3dde-447e-d9fd-ef485989cfb1"
      },
      "execution_count": 12,
      "outputs": [
        {
          "output_type": "stream",
          "name": "stdout",
          "text": [
            "True\n",
            "True\n",
            "False\n",
            "False\n",
            "False\n"
          ]
        }
      ]
    },
    {
      "cell_type": "code",
      "source": [
        "#3.Check if a given function is a generator or not\n",
        "import types\n",
        "def a(x):\n",
        "    yield x\n",
        "        \n",
        "def b(x):\n",
        "    return x\n",
        "\n",
        "def add(x, y):\n",
        "    return x + y\n",
        "\n",
        "print(isinstance(a(456), types.GeneratorType))\n",
        "print(isinstance(b(823), types.GeneratorType))\n",
        "print(isinstance(add(8,2), types.GeneratorType))\n"
      ],
      "metadata": {
        "colab": {
          "base_uri": "https://localhost:8080/"
        },
        "id": "FP73a3tmTsdX",
        "outputId": "6ac981e4-6d13-4c4b-91d6-f05f57add341"
      },
      "execution_count": 13,
      "outputs": [
        {
          "output_type": "stream",
          "name": "stdout",
          "text": [
            "True\n",
            "False\n",
            "False\n"
          ]
        }
      ]
    },
    {
      "cell_type": "code",
      "source": [
        "#4.Check if a given value is compiled code, module\n",
        "import types\n",
        "print(\"Check if a given value is compiled code:\")\n",
        "code = compile(\"print('Hello')\", \"sample\", \"exec\")\n",
        "print(isinstance(code, types.CodeType))\n",
        "print(isinstance(\"print(abs(-111))\", types.CodeType))\n",
        "print(\"\\nCheck if a given value is a module:\")\n",
        "print(isinstance(types, types.ModuleType))\n"
      ],
      "metadata": {
        "colab": {
          "base_uri": "https://localhost:8080/"
        },
        "id": "O5OcwTANUEuJ",
        "outputId": "a28f53b5-ce48-4d2d-9b43-bb34ed6917e9"
      },
      "execution_count": 14,
      "outputs": [
        {
          "output_type": "stream",
          "name": "stdout",
          "text": [
            "Check if a given value is compiled code:\n",
            "True\n",
            "False\n",
            "\n",
            "Check if a given value is a module:\n",
            "True\n"
          ]
        }
      ]
    },
    {
      "cell_type": "code",
      "source": [
        "#1.Round a Decimal value to the nearest multiple of 0.10, unless already an exact multiple of 0.05\n",
        "import decimal\n",
        "print(\"Configure the rounding to round up:\")\n",
        "decimal.getcontext().prec = 1\n",
        "decimal.getcontext().rounding = decimal.ROUND_UP\n",
        "print(decimal.Decimal(30) / decimal.Decimal(4))\n",
        "print(\"\\nConfigure the rounding to round down:\")\n",
        "decimal.getcontext().prec = 3\n",
        "decimal.getcontext().rounding = decimal.ROUND_DOWN\n",
        "print(decimal.Decimal(30) / decimal.Decimal(4))\n",
        "print(\"\\nConfigure the rounding to round up:\")\n",
        "print(decimal.Decimal('8.325').quantize(decimal.Decimal('.01'), rounding=decimal.ROUND_UP))\n",
        "print(\"\\nConfigure the rounding to round down:\")\n",
        "print(decimal.Decimal('8.325').quantize(decimal.Decimal('.01'), rounding=decimal.ROUND_DOWN))\n"
      ],
      "metadata": {
        "colab": {
          "base_uri": "https://localhost:8080/"
        },
        "id": "qc8Q381zUI75",
        "outputId": "4f96c9b4-4e36-4e86-ea95-afd250bf1fbb"
      },
      "execution_count": 15,
      "outputs": [
        {
          "output_type": "stream",
          "name": "stdout",
          "text": [
            "Configure the rounding to round up:\n",
            "8\n",
            "\n",
            "Configure the rounding to round down:\n",
            "7.5\n",
            "\n",
            "Configure the rounding to round up:\n",
            "8.33\n",
            "\n",
            "Configure the rounding to round down:\n",
            "8.32\n"
          ]
        }
      ]
    },
    {
      "cell_type": "code",
      "source": [
        "#2.Construct a Decimal from a float and a Decimal from a string\n",
        "import decimal\n",
        "print(\"Construct a Decimal from a float:\")\n",
        "pi_val = decimal.Decimal(3.14159)\n",
        "print(pi_val)\n",
        "print(pi_val.as_tuple())\n",
        "print(\"\\nConstruct a Decimal from a string:\")\n",
        "num_str = decimal.Decimal(\"123.25\")\n",
        "print(num_str)\n",
        "print(num_str.as_tuple())\n"
      ],
      "metadata": {
        "colab": {
          "base_uri": "https://localhost:8080/"
        },
        "id": "ZiRvpGulUshg",
        "outputId": "b3777b71-6d05-4ed2-ac29-a7b234914d39"
      },
      "execution_count": 16,
      "outputs": [
        {
          "output_type": "stream",
          "name": "stdout",
          "text": [
            "Construct a Decimal from a float:\n",
            "3.14158999999999988261834005243144929409027099609375\n",
            "DecimalTuple(sign=0, digits=(3, 1, 4, 1, 5, 8, 9, 9, 9, 9, 9, 9, 9, 9, 9, 9, 8, 8, 2, 6, 1, 8, 3, 4, 0, 0, 5, 2, 4, 3, 1, 4, 4, 9, 2, 9, 4, 0, 9, 0, 2, 7, 0, 9, 9, 6, 0, 9, 3, 7, 5), exponent=-50)\n",
            "\n",
            "Construct a Decimal from a string:\n",
            "123.25\n",
            "DecimalTuple(sign=0, digits=(1, 2, 3, 2, 5), exponent=-2)\n"
          ]
        }
      ]
    },
    {
      "cell_type": "code",
      "source": [
        "#3. Configure the rounding to round up and round down a given decimal value\n",
        "import decimal\n",
        "print(\"Configure the rounding to round up:\")\n",
        "decimal.getcontext().prec = 1\n",
        "decimal.getcontext().rounding = decimal.ROUND_UP\n",
        "print(decimal.Decimal(30) / decimal.Decimal(4))\n",
        "print(\"\\nConfigure the rounding to round down:\")\n",
        "decimal.getcontext().prec = 3\n",
        "decimal.getcontext().rounding = decimal.ROUND_DOWN\n",
        "print(decimal.Decimal(30) / decimal.Decimal(4))\n",
        "print(\"\\nConfigure the rounding to round up:\")\n",
        "print(decimal.Decimal('8.325').quantize(decimal.Decimal('.01'), rounding=decimal.ROUND_UP))\n",
        "print(\"\\nConfigure the rounding to round down:\")\n",
        "print(decimal.Decimal('8.325').quantize(decimal.Decimal('.01'), rounding=decimal.ROUND_DOWN))\n"
      ],
      "metadata": {
        "colab": {
          "base_uri": "https://localhost:8080/"
        },
        "id": "ZHWMGIDEU6ga",
        "outputId": "12f7049c-b388-4bff-85bd-3a7c296f4708"
      },
      "execution_count": 17,
      "outputs": [
        {
          "output_type": "stream",
          "name": "stdout",
          "text": [
            "Configure the rounding to round up:\n",
            "8\n",
            "\n",
            "Configure the rounding to round down:\n",
            "7.5\n",
            "\n",
            "Configure the rounding to round up:\n",
            "8.33\n",
            "\n",
            "Configure the rounding to round down:\n",
            "8.32\n"
          ]
        }
      ]
    },
    {
      "cell_type": "code",
      "source": [
        "#4.Configure the rounding to round to the floor, ceiling\n",
        "import decimal\n",
        "print(\"Configure the rounding to round to the floor:\")\n",
        "decimal.getcontext().prec = 4\n",
        "decimal.getcontext().rounding = decimal.ROUND_FLOOR\n",
        "print(decimal.Decimal(20) / decimal.Decimal(6))\n",
        "print(\"\\nConfigure the rounding to round to the ceiling:\")\n",
        "decimal.getcontext().prec = 4\n",
        "decimal.getcontext().rounding = decimal.ROUND_CEILING\n",
        "print(decimal.Decimal(20) / decimal.Decimal(6))\n"
      ],
      "metadata": {
        "colab": {
          "base_uri": "https://localhost:8080/"
        },
        "id": "zcFfMSTgU-99",
        "outputId": "4e783bbc-00a1-4d35-af4d-b152a909b8e9"
      },
      "execution_count": 18,
      "outputs": [
        {
          "output_type": "stream",
          "name": "stdout",
          "text": [
            "Configure the rounding to round to the floor:\n",
            "3.333\n",
            "\n",
            "Configure the rounding to round to the ceiling:\n",
            "3.334\n"
          ]
        }
      ]
    },
    {
      "cell_type": "code",
      "source": [
        "#5.Configure the rounding to round to the nearest - with ties going towards 0, with ties going away from 0\n",
        "import decimal\n",
        "print(\"Configure the rounding to round to the nearest, with ties going towards 0:\")\n",
        "decimal.getcontext().prec = 1\n",
        "decimal.getcontext().rounding = decimal.ROUND_HALF_DOWN\n",
        "print(decimal.Decimal(10) / decimal.Decimal(4))\n",
        "print(\"\\nConfigure the rounding to round to the nearest, with ties going away from 0:\")\n",
        "decimal.getcontext().prec = 1\n",
        "decimal.getcontext().rounding = decimal.ROUND_HALF_UP\n",
        "print(decimal.Decimal(10) / decimal.Decimal(4))\n"
      ],
      "metadata": {
        "colab": {
          "base_uri": "https://localhost:8080/"
        },
        "id": "oO4fnmSdVn7g",
        "outputId": "cb2b68c9-495b-44de-c021-b5904f0d919d"
      },
      "execution_count": 19,
      "outputs": [
        {
          "output_type": "stream",
          "name": "stdout",
          "text": [
            "Configure the rounding to round to the nearest, with ties going towards 0:\n",
            "2\n",
            "\n",
            "Configure the rounding to round to the nearest, with ties going away from 0:\n",
            "3\n"
          ]
        }
      ]
    },
    {
      "cell_type": "code",
      "source": [
        "#6.Display a given decimal value in scientific notation\n",
        "import decimal\n",
        "print(\"Configure the rounding to round to the nearest, with ties going towards 0:\")\n",
        "decimal.getcontext().prec = 1\n",
        "decimal.getcontext().rounding = decimal.ROUND_HALF_DOWN\n",
        "print(decimal.Decimal(10) / decimal.Decimal(4))\n",
        "print(\"\\nConfigure the rounding to round to the nearest, with ties going away from 0:\")\n",
        "decimal.getcontext().prec = 1\n",
        "decimal.getcontext().rounding = decimal.ROUND_HALF_UP\n",
        "print(decimal.Decimal(10) / decimal.Decimal(4))\n"
      ],
      "metadata": {
        "id": "O4lX2sdgVv1g"
      },
      "execution_count": null,
      "outputs": []
    },
    {
      "cell_type": "code",
      "source": [
        "#1.Create a deep copy of a given dictionary\n",
        "import copy\n",
        "nums_x = {\"a\":1, \"b\":2, 'cc':{\"c\":3}}\n",
        "print(\"Original dictionary: \", nums_x)\n",
        "nums_y = copy.deepcopy(nums_x)\n",
        "print(\"\\nDeep copy of the said list:\")\n",
        "print(nums_y)\n",
        "print(\"\\nChange the value of an element of the original dictionary:\")\n",
        "nums_x[\"cc\"][\"c\"] = 10\n",
        "print(nums_x)\n",
        "print(\"\\nSecond dictionary (Deep copy):\")\n",
        "print(nums_y)\n",
        "\n",
        "nums = {\"x\":1, \"y\":2, 'zz':{\"z\":3}}\n",
        "nums_copy = copy.deepcopy(nums)\n",
        "print(\"\\nOriginal dictionary :\")\n",
        "print(nums)\n",
        "print(\"\\nDeep copy of the said list:\")\n",
        "print(nums_copy)\n",
        "print(\"\\nChange the value of an element of the original dictionary:\")\n",
        "nums[\"zz\"][\"z\"] = 10\n",
        "print(\"\\nFirst dictionary:\")\n",
        "print(nums)\n",
        "print(\"\\nSecond dictionary (Deep copy):\")\n",
        "print(nums_copy)\n"
      ],
      "metadata": {
        "colab": {
          "base_uri": "https://localhost:8080/"
        },
        "id": "GNyxCg01Wuzd",
        "outputId": "d3d23a8f-56dc-4c57-91fe-4177a4af1c87"
      },
      "execution_count": 20,
      "outputs": [
        {
          "output_type": "stream",
          "name": "stdout",
          "text": [
            "Original dictionary:  {'a': 1, 'b': 2, 'cc': {'c': 3}}\n",
            "\n",
            "Deep copy of the said list:\n",
            "{'a': 1, 'b': 2, 'cc': {'c': 3}}\n",
            "\n",
            "Change the value of an element of the original dictionary:\n",
            "{'a': 1, 'b': 2, 'cc': {'c': 10}}\n",
            "\n",
            "Second dictionary (Deep copy):\n",
            "{'a': 1, 'b': 2, 'cc': {'c': 3}}\n",
            "\n",
            "Original dictionary :\n",
            "{'x': 1, 'y': 2, 'zz': {'z': 3}}\n",
            "\n",
            "Deep copy of the said list:\n",
            "{'x': 1, 'y': 2, 'zz': {'z': 3}}\n",
            "\n",
            "Change the value of an element of the original dictionary:\n",
            "\n",
            "First dictionary:\n",
            "{'x': 1, 'y': 2, 'zz': {'z': 10}}\n",
            "\n",
            "Second dictionary (Deep copy):\n",
            "{'x': 1, 'y': 2, 'zz': {'z': 3}}\n"
          ]
        }
      ]
    },
    {
      "cell_type": "code",
      "source": [
        "#2.Create a shallow copy of a given dictionary\n",
        "import copy\n",
        "nums_x = {\"a\":1, \"b\":2, 'cc':{\"c\":3}}\n",
        "print(\"Original dictionary: \", nums_x)\n",
        "nums_y = copy.copy(nums_x)\n",
        "print(\"\\nCopy of the said list:\")\n",
        "print(nums_y)\n",
        "print(\"\\nChange the value of an element of the original dictionary:\")\n",
        "nums_x[\"cc\"][\"c\"] = 10\n",
        "print(nums_x)\n",
        "print(\"\\nSecond dictionary:\")\n",
        "print(nums_y)\n",
        "\n",
        "nums = {\"x\":1, \"y\":2, 'zz':{\"z\":3}}\n",
        "nums_copy = copy.copy(nums)\n",
        "print(\"\\nOriginal dictionary :\")\n",
        "print(nums)\n",
        "print(\"\\nCopy of the said list:\")\n",
        "print(nums_copy)\n",
        "print(\"\\nChange the value of an element of the original dictionary:\")\n",
        "nums[\"zz\"][\"z\"] = 10\n",
        "print(\"\\nFirst dictionary:\")\n",
        "print(nums)\n",
        "print(\"\\nSecond dictionary (copy):\")\n",
        "print(nums_copy)\n"
      ],
      "metadata": {
        "colab": {
          "base_uri": "https://localhost:8080/"
        },
        "id": "Hi6jBE-BW1KL",
        "outputId": "04e5e0b2-2db6-422e-f781-389bd3eaec70"
      },
      "execution_count": 21,
      "outputs": [
        {
          "output_type": "stream",
          "name": "stdout",
          "text": [
            "Original dictionary:  {'a': 1, 'b': 2, 'cc': {'c': 3}}\n",
            "\n",
            "Copy of the said list:\n",
            "{'a': 1, 'b': 2, 'cc': {'c': 3}}\n",
            "\n",
            "Change the value of an element of the original dictionary:\n",
            "{'a': 1, 'b': 2, 'cc': {'c': 10}}\n",
            "\n",
            "Second dictionary:\n",
            "{'a': 1, 'b': 2, 'cc': {'c': 10}}\n",
            "\n",
            "Original dictionary :\n",
            "{'x': 1, 'y': 2, 'zz': {'z': 3}}\n",
            "\n",
            "Copy of the said list:\n",
            "{'x': 1, 'y': 2, 'zz': {'z': 3}}\n",
            "\n",
            "Change the value of an element of the original dictionary:\n",
            "\n",
            "First dictionary:\n",
            "{'x': 1, 'y': 2, 'zz': {'z': 10}}\n",
            "\n",
            "Second dictionary (copy):\n",
            "{'x': 1, 'y': 2, 'zz': {'z': 10}}\n"
          ]
        }
      ]
    },
    {
      "cell_type": "code",
      "source": [
        "#3.Create a deep copy of a given list\n",
        "import copy\n",
        "nums_x = [1, [2, 3, 4]]\n",
        "print(\"Original list: \", nums_x)\n",
        "nums_y = copy.deepcopy(nums_x)\n",
        "print(\"\\nDeep copy of the said list:\")\n",
        "print(nums_y)\n",
        "print(\"\\nChange the value of an element of the original list:\")\n",
        "nums_x[1][1] = 10\n",
        "print(nums_x)\n",
        "print(\"\\nCopy of the second list (Deep copy):\")\n",
        "print(nums_y)\n",
        "nums = [[1, 2, 3], [4, 5, 6]]\n",
        "deep_copy = copy.deepcopy(nums)\n",
        "print(\"\\nOriginal list:\")\n",
        "print(nums)\n",
        "print(\"\\nDeep copy of the said list:\")\n",
        "print(deep_copy)\n",
        "print(\"\\nChange the value of some elements of the original list:\")\n",
        "nums[0][2] = 55\n",
        "nums[1][1] = 77\n",
        "print(\"\\nOriginal list:\")\n",
        "print(nums)\n",
        "print(\"\\nSecond list (Deep copy):\")\n",
        "print(deep_copy)\n"
      ],
      "metadata": {
        "colab": {
          "base_uri": "https://localhost:8080/"
        },
        "id": "iTnXoGmzW4kZ",
        "outputId": "b3661ae1-4326-4087-d50d-5e7157caefe9"
      },
      "execution_count": 22,
      "outputs": [
        {
          "output_type": "stream",
          "name": "stdout",
          "text": [
            "Original list:  [1, [2, 3, 4]]\n",
            "\n",
            "Deep copy of the said list:\n",
            "[1, [2, 3, 4]]\n",
            "\n",
            "Change the value of an element of the original list:\n",
            "[1, [2, 10, 4]]\n",
            "\n",
            "Copy of the second list (Deep copy):\n",
            "[1, [2, 3, 4]]\n",
            "\n",
            "Original list:\n",
            "[[1, 2, 3], [4, 5, 6]]\n",
            "\n",
            "Deep copy of the said list:\n",
            "[[1, 2, 3], [4, 5, 6]]\n",
            "\n",
            "Change the value of some elements of the original list:\n",
            "\n",
            "Original list:\n",
            "[[1, 2, 55], [4, 77, 6]]\n",
            "\n",
            "Second list (Deep copy):\n",
            "[[1, 2, 3], [4, 5, 6]]\n"
          ]
        }
      ]
    },
    {
      "cell_type": "code",
      "source": [
        "#4,Create a shallow copy of a given list\n",
        "import copy\n",
        "nums_x = [1, [2, 3, 4]]\n",
        "print(\"Original list: \", nums_x)\n",
        "nums_y = copy.copy(nums_x)\n",
        "print(\"\\nCopy of the said list:\")\n",
        "print(nums_y)\n",
        "print(\"\\nChange the value of an element of the original list:\")\n",
        "nums_x[1][1] = 10\n",
        "print(nums_x)\n",
        "print(\"\\nSecond list:\")\n",
        "print(nums_y)\n",
        "nums =  [[1], [2]]\n",
        "nums_copy = copy.copy(nums)\n",
        "print(\"\\nOriginal list:\")\n",
        "print(nums)\n",
        "print(\"\\nCopy of the said list:\")\n",
        "print(nums_copy)\n",
        "print(\"\\nChange the value of an element of the original list:\")\n",
        "nums[0][0] = 0\n",
        "print(\"\\nFirst list:\")\n",
        "print(nums)\n",
        "print(\"\\nSecond list:\")\n",
        "print(nums_copy)\n"
      ],
      "metadata": {
        "colab": {
          "base_uri": "https://localhost:8080/"
        },
        "id": "JEro0CLPXHIP",
        "outputId": "8379e60a-f100-4097-888a-e027cc301d3a"
      },
      "execution_count": 23,
      "outputs": [
        {
          "output_type": "stream",
          "name": "stdout",
          "text": [
            "Original list:  [1, [2, 3, 4]]\n",
            "\n",
            "Copy of the said list:\n",
            "[1, [2, 3, 4]]\n",
            "\n",
            "Change the value of an element of the original list:\n",
            "[1, [2, 10, 4]]\n",
            "\n",
            "Second list:\n",
            "[1, [2, 10, 4]]\n",
            "\n",
            "Original list:\n",
            "[[1], [2]]\n",
            "\n",
            "Copy of the said list:\n",
            "[[1], [2]]\n",
            "\n",
            "Change the value of an element of the original list:\n",
            "\n",
            "First list:\n",
            "[[0], [2]]\n",
            "\n",
            "Second list:\n",
            "[[0], [2]]\n"
          ]
        }
      ]
    }
  ]
}