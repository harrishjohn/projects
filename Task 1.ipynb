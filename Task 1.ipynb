{
  "nbformat": 4,
  "nbformat_minor": 0,
  "metadata": {
    "colab": {
      "provenance": []
    },
    "kernelspec": {
      "name": "python3",
      "display_name": "Python 3"
    },
    "language_info": {
      "name": "python"
    }
  },
  "cells": [
    {
      "cell_type": "code",
      "execution_count": 1,
      "metadata": {
        "colab": {
          "base_uri": "https://localhost:8080/"
        },
        "id": "Biu_6MseKzDJ",
        "outputId": "d1bd6f81-47c4-462c-bbfb-def2c04658e1"
      },
      "outputs": [
        {
          "output_type": "stream",
          "name": "stdout",
          "text": [
            "Current date and time:  2022-12-21 10:13:51.989819\n",
            "Current year:  2022\n",
            "Month of year:  December\n",
            "Week number of the year:  51\n",
            "Weekday of the week:  3\n",
            "Day of year:  355\n",
            "Day of the month :  21\n",
            "Day of week:  Wednesday\n"
          ]
        }
      ],
      "source": [
        "import time\n",
        "import datetime\n",
        "print(\"Current date and time: \" , datetime.datetime.now())\n",
        "print(\"Current year: \", datetime.date.today().strftime(\"%Y\"))\n",
        "print(\"Month of year: \", datetime.date.today().strftime(\"%B\"))\n",
        "print(\"Week number of the year: \", datetime.date.today().strftime(\"%W\"))\n",
        "print(\"Weekday of the week: \", datetime.date.today().strftime(\"%w\"))\n",
        "print(\"Day of year: \", datetime.date.today().strftime(\"%j\"))\n",
        "print(\"Day of the month : \", datetime.date.today().strftime(\"%d\"))\n",
        "print(\"Day of week: \", datetime.date.today().strftime(\"%A\"))"
      ]
    },
    {
      "cell_type": "code",
      "source": [
        "#CONVERTING STRING TO DATETIME\n",
        "from datetime import datetime\n",
        "date = datetime.strptime('Jul 1 2014 2:43PM', '%b %d %Y %I:%M%p')\n",
        "print(date)"
      ],
      "metadata": {
        "colab": {
          "base_uri": "https://localhost:8080/"
        },
        "id": "UamiEQAmMUMk",
        "outputId": "fb85f9b6-a09a-47fa-e08f-0aeff1a94171"
      },
      "execution_count": 6,
      "outputs": [
        {
          "output_type": "stream",
          "name": "stdout",
          "text": [
            "2014-07-01 14:43:00\n"
          ]
        }
      ]
    },
    {
      "cell_type": "code",
      "source": [
        "#LEAP YEAR\n",
        "def Leap(Year):  \n",
        "  \n",
        "  if((Year % 400 == 0) or  (Year % 100 != 0) and  (Year % 4 == 0)):   \n",
        "    print(\"Given Year is a leap Year\");  \n",
        "  \n",
        "  else:  \n",
        "    print (\"Given Year is not a leap Year\")  \n",
        " \n",
        "Year = int(input(\"Enter the number: \"))  \n",
        "  \n",
        "Leap(Year)  \n",
        "        \n"
      ],
      "metadata": {
        "colab": {
          "base_uri": "https://localhost:8080/"
        },
        "id": "-XQ0OQVZSAnf",
        "outputId": "a3503415-0dc9-4b07-f5b9-ea10aa9522ad"
      },
      "execution_count": 25,
      "outputs": [
        {
          "output_type": "stream",
          "name": "stdout",
          "text": [
            "Enter the number: 2022\n",
            "Given Year is not a leap Year\n"
          ]
        }
      ]
    },
    {
      "cell_type": "code",
      "source": [
        "import datetime \n",
        "today = datetime.date.today()\n",
        "yesterday = today - datetime.timedelta(days = 1)\n",
        "tomorrow = today + datetime.timedelta(days = 1) \n",
        "print('Yesterday : ',yesterday)\n",
        "print('Today : ',today)\n",
        "print('Tomorrow : ',tomorrow)"
      ],
      "metadata": {
        "colab": {
          "base_uri": "https://localhost:8080/"
        },
        "id": "6o38YfjUNMVz",
        "outputId": "e8f37746-450c-4f40-9954-3990020193e3"
      },
      "execution_count": 7,
      "outputs": [
        {
          "output_type": "stream",
          "name": "stdout",
          "text": [
            "Yesterday :  2022-12-20\n",
            "Today :  2022-12-21\n",
            "Tomorrow :  2022-12-22\n"
          ]
        }
      ]
    },
    {
      "cell_type": "code",
      "source": [
        "#5 days before Current Date\n",
        "from datetime import date, timedelta\n",
        "dt = date.today() - timedelta(5)\n",
        "print('Current Date :',date.today())\n",
        "print('5 days before Current Date :',dt)"
      ],
      "metadata": {
        "colab": {
          "base_uri": "https://localhost:8080/"
        },
        "id": "rBnG_lNmNkZy",
        "outputId": "7f5d32fc-dda9-4a18-f7aa-e360ff042de6"
      },
      "execution_count": 8,
      "outputs": [
        {
          "output_type": "stream",
          "name": "stdout",
          "text": [
            "Current Date : 2022-12-21\n",
            "5 days before Current Date : 2022-12-16\n"
          ]
        }
      ]
    },
    {
      "cell_type": "code",
      "source": [
        "#NEXT FIVE DAYS FROM CURRENT DATE\n",
        "import datetime\n",
        "base = datetime.datetime.today()\n",
        "for x in range(0, 5):\n",
        "      print(base + datetime.timedelta(days=x))"
      ],
      "metadata": {
        "colab": {
          "base_uri": "https://localhost:8080/"
        },
        "id": "1TZl0g3sOIMY",
        "outputId": "026837d3-4c0c-46a3-d867-af9b6ae50445"
      },
      "execution_count": 10,
      "outputs": [
        {
          "output_type": "stream",
          "name": "stdout",
          "text": [
            "2022-12-21 10:26:33.677579\n",
            "2022-12-22 10:26:33.677579\n",
            "2022-12-23 10:26:33.677579\n",
            "2022-12-24 10:26:33.677579\n",
            "2022-12-25 10:26:33.677579\n"
          ]
        }
      ]
    },
    {
      "cell_type": "code",
      "source": [
        "#DAY OF THE MONTH\n",
        "import datetime\n",
        "today = datetime.datetime.now()\n",
        "day_of_year = (today - datetime.datetime(today.year, 1, 1)).days + 1\n",
        "print(day_of_year)\n"
      ],
      "metadata": {
        "colab": {
          "base_uri": "https://localhost:8080/"
        },
        "id": "zqRxNFajOa6Q",
        "outputId": "79a819b0-5258-4250-b11a-e63d27e5b2a2"
      },
      "execution_count": 14,
      "outputs": [
        {
          "output_type": "stream",
          "name": "stdout",
          "text": [
            "355\n"
          ]
        }
      ]
    },
    {
      "cell_type": "code",
      "source": [
        "#ADDING FIVE SECONDS\n",
        "import datetime\n",
        "x= datetime.datetime.now()\n",
        "y = x + datetime.timedelta(0,7)\n",
        "print(x.time())\n",
        "print(y.time())"
      ],
      "metadata": {
        "colab": {
          "base_uri": "https://localhost:8080/"
        },
        "id": "8ky7MclNPW7u",
        "outputId": "aaa87287-8acd-45ac-a6e1-ee8501bc6374"
      },
      "execution_count": 17,
      "outputs": [
        {
          "output_type": "stream",
          "name": "stdout",
          "text": [
            "10:32:42.173988\n",
            "10:32:49.173988\n"
          ]
        }
      ]
    }
  ]
}